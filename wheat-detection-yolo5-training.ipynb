{
 "cells": [
  {
   "cell_type": "code",
   "execution_count": 1,
   "id": "f99e1038",
   "metadata": {
    "_cell_guid": "b1076dfc-b9ad-4769-8c92-a6c4dae69d19",
    "_uuid": "8f2839f25d086af736a60e9eeb907d3b93b6e0e5",
    "execution": {
     "iopub.execute_input": "2023-09-09T10:02:31.657313Z",
     "iopub.status.busy": "2023-09-09T10:02:31.656968Z",
     "iopub.status.idle": "2023-09-09T10:02:33.805905Z",
     "shell.execute_reply": "2023-09-09T10:02:33.804786Z"
    },
    "papermill": {
     "duration": 2.1636,
     "end_time": "2023-09-09T10:02:33.808642",
     "exception": false,
     "start_time": "2023-09-09T10:02:31.645042",
     "status": "completed"
    },
    "tags": []
   },
   "outputs": [
    {
     "name": "stderr",
     "output_type": "stream",
     "text": [
      "/opt/conda/lib/python3.10/site-packages/scipy/__init__.py:146: UserWarning: A NumPy version >=1.16.5 and <1.23.0 is required for this version of SciPy (detected version 1.23.5\n",
      "  warnings.warn(f\"A NumPy version >={np_minversion} and <{np_maxversion}\"\n"
     ]
    }
   ],
   "source": [
    "import numpy as np \n",
    "import pandas as pd \n",
    "import os\n",
    "from tqdm import tqdm\n",
    "import shutil\n",
    "\n",
    "from sklearn.model_selection import StratifiedKFold"
   ]
  },
  {
   "cell_type": "markdown",
   "id": "a6f684e9",
   "metadata": {
    "papermill": {
     "duration": 0.007608,
     "end_time": "2023-09-09T10:02:33.826099",
     "exception": false,
     "start_time": "2023-09-09T10:02:33.818491",
     "status": "completed"
    },
    "tags": []
   },
   "source": [
    "# Data"
   ]
  },
  {
   "cell_type": "code",
   "execution_count": 2,
   "id": "c1ebd1cf",
   "metadata": {
    "execution": {
     "iopub.execute_input": "2023-09-09T10:02:33.842789Z",
     "iopub.status.busy": "2023-09-09T10:02:33.842356Z",
     "iopub.status.idle": "2023-09-09T10:02:34.201799Z",
     "shell.execute_reply": "2023-09-09T10:02:34.200795Z"
    },
    "papermill": {
     "duration": 0.370675,
     "end_time": "2023-09-09T10:02:34.204375",
     "exception": false,
     "start_time": "2023-09-09T10:02:33.833700",
     "status": "completed"
    },
    "tags": []
   },
   "outputs": [
    {
     "data": {
      "text/html": [
       "<div>\n",
       "<style scoped>\n",
       "    .dataframe tbody tr th:only-of-type {\n",
       "        vertical-align: middle;\n",
       "    }\n",
       "\n",
       "    .dataframe tbody tr th {\n",
       "        vertical-align: top;\n",
       "    }\n",
       "\n",
       "    .dataframe thead th {\n",
       "        text-align: right;\n",
       "    }\n",
       "</style>\n",
       "<table border=\"1\" class=\"dataframe\">\n",
       "  <thead>\n",
       "    <tr style=\"text-align: right;\">\n",
       "      <th></th>\n",
       "      <th>image_id</th>\n",
       "      <th>width</th>\n",
       "      <th>height</th>\n",
       "      <th>bbox</th>\n",
       "      <th>source</th>\n",
       "    </tr>\n",
       "  </thead>\n",
       "  <tbody>\n",
       "    <tr>\n",
       "      <th>0</th>\n",
       "      <td>b6ab77fd7</td>\n",
       "      <td>1024</td>\n",
       "      <td>1024</td>\n",
       "      <td>[834.0, 222.0, 56.0, 36.0]</td>\n",
       "      <td>usask_1</td>\n",
       "    </tr>\n",
       "    <tr>\n",
       "      <th>1</th>\n",
       "      <td>b6ab77fd7</td>\n",
       "      <td>1024</td>\n",
       "      <td>1024</td>\n",
       "      <td>[226.0, 548.0, 130.0, 58.0]</td>\n",
       "      <td>usask_1</td>\n",
       "    </tr>\n",
       "    <tr>\n",
       "      <th>2</th>\n",
       "      <td>b6ab77fd7</td>\n",
       "      <td>1024</td>\n",
       "      <td>1024</td>\n",
       "      <td>[377.0, 504.0, 74.0, 160.0]</td>\n",
       "      <td>usask_1</td>\n",
       "    </tr>\n",
       "    <tr>\n",
       "      <th>3</th>\n",
       "      <td>b6ab77fd7</td>\n",
       "      <td>1024</td>\n",
       "      <td>1024</td>\n",
       "      <td>[834.0, 95.0, 109.0, 107.0]</td>\n",
       "      <td>usask_1</td>\n",
       "    </tr>\n",
       "    <tr>\n",
       "      <th>4</th>\n",
       "      <td>b6ab77fd7</td>\n",
       "      <td>1024</td>\n",
       "      <td>1024</td>\n",
       "      <td>[26.0, 144.0, 124.0, 117.0]</td>\n",
       "      <td>usask_1</td>\n",
       "    </tr>\n",
       "  </tbody>\n",
       "</table>\n",
       "</div>"
      ],
      "text/plain": [
       "    image_id  width  height                         bbox   source\n",
       "0  b6ab77fd7   1024    1024   [834.0, 222.0, 56.0, 36.0]  usask_1\n",
       "1  b6ab77fd7   1024    1024  [226.0, 548.0, 130.0, 58.0]  usask_1\n",
       "2  b6ab77fd7   1024    1024  [377.0, 504.0, 74.0, 160.0]  usask_1\n",
       "3  b6ab77fd7   1024    1024  [834.0, 95.0, 109.0, 107.0]  usask_1\n",
       "4  b6ab77fd7   1024    1024  [26.0, 144.0, 124.0, 117.0]  usask_1"
      ]
     },
     "execution_count": 2,
     "metadata": {},
     "output_type": "execute_result"
    }
   ],
   "source": [
    "df = pd.read_csv('../input/global-wheat-detection/train.csv')\n",
    "df.head()"
   ]
  },
  {
   "cell_type": "code",
   "execution_count": 3,
   "id": "7f48f7ac",
   "metadata": {
    "execution": {
     "iopub.execute_input": "2023-09-09T10:02:34.221813Z",
     "iopub.status.busy": "2023-09-09T10:02:34.221501Z",
     "iopub.status.idle": "2023-09-09T10:02:34.228056Z",
     "shell.execute_reply": "2023-09-09T10:02:34.227111Z"
    },
    "papermill": {
     "duration": 0.017202,
     "end_time": "2023-09-09T10:02:34.230073",
     "exception": false,
     "start_time": "2023-09-09T10:02:34.212871",
     "status": "completed"
    },
    "tags": []
   },
   "outputs": [],
   "source": [
    "# データフレームをyolo形式に変換\n",
    "def convert_to_yolo(df: pd.DataFrame) -> pd.DataFrame:\n",
    "    bboxs = np.stack(df['bbox'].apply(lambda x: np.fromstring(x[1:-1], sep=',')))\n",
    "    for i, column in enumerate(['x', 'y', 'w', 'h']):\n",
    "        df[column] = bboxs[:,i]\n",
    "    df.drop(columns=['bbox'], inplace=True)\n",
    "    df['x_center'] = df['x'] + df['w']/2\n",
    "    df['y_center'] = df['y'] + df['h']/2\n",
    "    df['classes'] = 0\n",
    "    return df"
   ]
  },
  {
   "cell_type": "code",
   "execution_count": 4,
   "id": "0a4960d9",
   "metadata": {
    "execution": {
     "iopub.execute_input": "2023-09-09T10:02:34.246537Z",
     "iopub.status.busy": "2023-09-09T10:02:34.246267Z",
     "iopub.status.idle": "2023-09-09T10:02:34.975385Z",
     "shell.execute_reply": "2023-09-09T10:02:34.974469Z"
    },
    "papermill": {
     "duration": 0.740006,
     "end_time": "2023-09-09T10:02:34.977797",
     "exception": false,
     "start_time": "2023-09-09T10:02:34.237791",
     "status": "completed"
    },
    "tags": []
   },
   "outputs": [
    {
     "data": {
      "text/html": [
       "<div>\n",
       "<style scoped>\n",
       "    .dataframe tbody tr th:only-of-type {\n",
       "        vertical-align: middle;\n",
       "    }\n",
       "\n",
       "    .dataframe tbody tr th {\n",
       "        vertical-align: top;\n",
       "    }\n",
       "\n",
       "    .dataframe thead th {\n",
       "        text-align: right;\n",
       "    }\n",
       "</style>\n",
       "<table border=\"1\" class=\"dataframe\">\n",
       "  <thead>\n",
       "    <tr style=\"text-align: right;\">\n",
       "      <th></th>\n",
       "      <th>image_id</th>\n",
       "      <th>width</th>\n",
       "      <th>height</th>\n",
       "      <th>source</th>\n",
       "      <th>x</th>\n",
       "      <th>y</th>\n",
       "      <th>w</th>\n",
       "      <th>h</th>\n",
       "      <th>x_center</th>\n",
       "      <th>y_center</th>\n",
       "      <th>classes</th>\n",
       "    </tr>\n",
       "  </thead>\n",
       "  <tbody>\n",
       "    <tr>\n",
       "      <th>0</th>\n",
       "      <td>b6ab77fd7</td>\n",
       "      <td>1024</td>\n",
       "      <td>1024</td>\n",
       "      <td>usask_1</td>\n",
       "      <td>834.0</td>\n",
       "      <td>222.0</td>\n",
       "      <td>56.0</td>\n",
       "      <td>36.0</td>\n",
       "      <td>862.0</td>\n",
       "      <td>240.0</td>\n",
       "      <td>0</td>\n",
       "    </tr>\n",
       "    <tr>\n",
       "      <th>1</th>\n",
       "      <td>b6ab77fd7</td>\n",
       "      <td>1024</td>\n",
       "      <td>1024</td>\n",
       "      <td>usask_1</td>\n",
       "      <td>226.0</td>\n",
       "      <td>548.0</td>\n",
       "      <td>130.0</td>\n",
       "      <td>58.0</td>\n",
       "      <td>291.0</td>\n",
       "      <td>577.0</td>\n",
       "      <td>0</td>\n",
       "    </tr>\n",
       "    <tr>\n",
       "      <th>2</th>\n",
       "      <td>b6ab77fd7</td>\n",
       "      <td>1024</td>\n",
       "      <td>1024</td>\n",
       "      <td>usask_1</td>\n",
       "      <td>377.0</td>\n",
       "      <td>504.0</td>\n",
       "      <td>74.0</td>\n",
       "      <td>160.0</td>\n",
       "      <td>414.0</td>\n",
       "      <td>584.0</td>\n",
       "      <td>0</td>\n",
       "    </tr>\n",
       "    <tr>\n",
       "      <th>3</th>\n",
       "      <td>b6ab77fd7</td>\n",
       "      <td>1024</td>\n",
       "      <td>1024</td>\n",
       "      <td>usask_1</td>\n",
       "      <td>834.0</td>\n",
       "      <td>95.0</td>\n",
       "      <td>109.0</td>\n",
       "      <td>107.0</td>\n",
       "      <td>888.5</td>\n",
       "      <td>148.5</td>\n",
       "      <td>0</td>\n",
       "    </tr>\n",
       "    <tr>\n",
       "      <th>4</th>\n",
       "      <td>b6ab77fd7</td>\n",
       "      <td>1024</td>\n",
       "      <td>1024</td>\n",
       "      <td>usask_1</td>\n",
       "      <td>26.0</td>\n",
       "      <td>144.0</td>\n",
       "      <td>124.0</td>\n",
       "      <td>117.0</td>\n",
       "      <td>88.0</td>\n",
       "      <td>202.5</td>\n",
       "      <td>0</td>\n",
       "    </tr>\n",
       "  </tbody>\n",
       "</table>\n",
       "</div>"
      ],
      "text/plain": [
       "    image_id  width  height   source      x      y      w      h  x_center  \\\n",
       "0  b6ab77fd7   1024    1024  usask_1  834.0  222.0   56.0   36.0     862.0   \n",
       "1  b6ab77fd7   1024    1024  usask_1  226.0  548.0  130.0   58.0     291.0   \n",
       "2  b6ab77fd7   1024    1024  usask_1  377.0  504.0   74.0  160.0     414.0   \n",
       "3  b6ab77fd7   1024    1024  usask_1  834.0   95.0  109.0  107.0     888.5   \n",
       "4  b6ab77fd7   1024    1024  usask_1   26.0  144.0  124.0  117.0      88.0   \n",
       "\n",
       "   y_center  classes  \n",
       "0     240.0        0  \n",
       "1     577.0        0  \n",
       "2     584.0        0  \n",
       "3     148.5        0  \n",
       "4     202.5        0  "
      ]
     },
     "execution_count": 4,
     "metadata": {},
     "output_type": "execute_result"
    }
   ],
   "source": [
    "df = convert_to_yolo(df)\n",
    "df.head()"
   ]
  },
  {
   "cell_type": "code",
   "execution_count": 5,
   "id": "a3848693",
   "metadata": {
    "execution": {
     "iopub.execute_input": "2023-09-09T10:02:34.995795Z",
     "iopub.status.busy": "2023-09-09T10:02:34.995485Z",
     "iopub.status.idle": "2023-09-09T10:02:35.002216Z",
     "shell.execute_reply": "2023-09-09T10:02:35.001088Z"
    },
    "papermill": {
     "duration": 0.018388,
     "end_time": "2023-09-09T10:02:35.004672",
     "exception": false,
     "start_time": "2023-09-09T10:02:34.986284",
     "status": "completed"
    },
    "tags": []
   },
   "outputs": [],
   "source": [
    "# データを分割 \n",
    "def stratified_kfold_split_df(df: pd.DataFrame) -> pd.DataFrame:\n",
    "    fold_id = np.zeros((df.shape[0],1))\n",
    "    skf = StratifiedKFold(n_splits = 5, random_state = 42, shuffle = True)\n",
    "    \n",
    "    # sourceでの層化\n",
    "    for (ff, (train_index, test_index)) in enumerate(skf.split(df, df['source'])):\n",
    "        fold_id[test_index]= int(ff)\n",
    "\n",
    "    df['fold'] = fold_id.copy()\n",
    "    df = df[['image_id','x', 'y', 'w', 'h','x_center','y_center','classes', 'fold']]\n",
    "    return df"
   ]
  },
  {
   "cell_type": "code",
   "execution_count": 6,
   "id": "ef91cd30",
   "metadata": {
    "execution": {
     "iopub.execute_input": "2023-09-09T10:02:35.022938Z",
     "iopub.status.busy": "2023-09-09T10:02:35.022638Z",
     "iopub.status.idle": "2023-09-09T10:02:35.248342Z",
     "shell.execute_reply": "2023-09-09T10:02:35.247242Z"
    },
    "papermill": {
     "duration": 0.237776,
     "end_time": "2023-09-09T10:02:35.251319",
     "exception": false,
     "start_time": "2023-09-09T10:02:35.013543",
     "status": "completed"
    },
    "tags": []
   },
   "outputs": [
    {
     "data": {
      "text/html": [
       "<div>\n",
       "<style scoped>\n",
       "    .dataframe tbody tr th:only-of-type {\n",
       "        vertical-align: middle;\n",
       "    }\n",
       "\n",
       "    .dataframe tbody tr th {\n",
       "        vertical-align: top;\n",
       "    }\n",
       "\n",
       "    .dataframe thead th {\n",
       "        text-align: right;\n",
       "    }\n",
       "</style>\n",
       "<table border=\"1\" class=\"dataframe\">\n",
       "  <thead>\n",
       "    <tr style=\"text-align: right;\">\n",
       "      <th></th>\n",
       "      <th>image_id</th>\n",
       "      <th>x</th>\n",
       "      <th>y</th>\n",
       "      <th>w</th>\n",
       "      <th>h</th>\n",
       "      <th>x_center</th>\n",
       "      <th>y_center</th>\n",
       "      <th>classes</th>\n",
       "      <th>fold</th>\n",
       "    </tr>\n",
       "  </thead>\n",
       "  <tbody>\n",
       "    <tr>\n",
       "      <th>0</th>\n",
       "      <td>b6ab77fd7</td>\n",
       "      <td>834.0</td>\n",
       "      <td>222.0</td>\n",
       "      <td>56.0</td>\n",
       "      <td>36.0</td>\n",
       "      <td>862.0</td>\n",
       "      <td>240.0</td>\n",
       "      <td>0</td>\n",
       "      <td>0.0</td>\n",
       "    </tr>\n",
       "    <tr>\n",
       "      <th>1</th>\n",
       "      <td>b6ab77fd7</td>\n",
       "      <td>226.0</td>\n",
       "      <td>548.0</td>\n",
       "      <td>130.0</td>\n",
       "      <td>58.0</td>\n",
       "      <td>291.0</td>\n",
       "      <td>577.0</td>\n",
       "      <td>0</td>\n",
       "      <td>2.0</td>\n",
       "    </tr>\n",
       "    <tr>\n",
       "      <th>2</th>\n",
       "      <td>b6ab77fd7</td>\n",
       "      <td>377.0</td>\n",
       "      <td>504.0</td>\n",
       "      <td>74.0</td>\n",
       "      <td>160.0</td>\n",
       "      <td>414.0</td>\n",
       "      <td>584.0</td>\n",
       "      <td>0</td>\n",
       "      <td>3.0</td>\n",
       "    </tr>\n",
       "    <tr>\n",
       "      <th>3</th>\n",
       "      <td>b6ab77fd7</td>\n",
       "      <td>834.0</td>\n",
       "      <td>95.0</td>\n",
       "      <td>109.0</td>\n",
       "      <td>107.0</td>\n",
       "      <td>888.5</td>\n",
       "      <td>148.5</td>\n",
       "      <td>0</td>\n",
       "      <td>3.0</td>\n",
       "    </tr>\n",
       "    <tr>\n",
       "      <th>4</th>\n",
       "      <td>b6ab77fd7</td>\n",
       "      <td>26.0</td>\n",
       "      <td>144.0</td>\n",
       "      <td>124.0</td>\n",
       "      <td>117.0</td>\n",
       "      <td>88.0</td>\n",
       "      <td>202.5</td>\n",
       "      <td>0</td>\n",
       "      <td>4.0</td>\n",
       "    </tr>\n",
       "  </tbody>\n",
       "</table>\n",
       "</div>"
      ],
      "text/plain": [
       "    image_id      x      y      w      h  x_center  y_center  classes  fold\n",
       "0  b6ab77fd7  834.0  222.0   56.0   36.0     862.0     240.0        0   0.0\n",
       "1  b6ab77fd7  226.0  548.0  130.0   58.0     291.0     577.0        0   2.0\n",
       "2  b6ab77fd7  377.0  504.0   74.0  160.0     414.0     584.0        0   3.0\n",
       "3  b6ab77fd7  834.0   95.0  109.0  107.0     888.5     148.5        0   3.0\n",
       "4  b6ab77fd7   26.0  144.0  124.0  117.0      88.0     202.5        0   4.0"
      ]
     },
     "execution_count": 6,
     "metadata": {},
     "output_type": "execute_result"
    }
   ],
   "source": [
    "df = stratified_kfold_split_df(df)\n",
    "df.head()"
   ]
  },
  {
   "cell_type": "code",
   "execution_count": 7,
   "id": "eb0db0a5",
   "metadata": {
    "execution": {
     "iopub.execute_input": "2023-09-09T10:02:35.269812Z",
     "iopub.status.busy": "2023-09-09T10:02:35.269499Z",
     "iopub.status.idle": "2023-09-09T10:02:35.278805Z",
     "shell.execute_reply": "2023-09-09T10:02:35.277790Z"
    },
    "papermill": {
     "duration": 0.020861,
     "end_time": "2023-09-09T10:02:35.281017",
     "exception": false,
     "start_time": "2023-09-09T10:02:35.260156",
     "status": "completed"
    },
    "tags": []
   },
   "outputs": [],
   "source": [
    "def create_labels_and_copy_images(df: pd.DataFrame, fold: int, source: str = \"train\"):\n",
    "    val_index = set(df[df['fold'] == fold]['image_id'])\n",
    "\n",
    "    # 画像ごとにバウンディングボックスをループ処理\n",
    "    for name,mini in tqdm(df.groupby('image_id')):    \n",
    "        # ファイルの保存場所\n",
    "        if name in val_index:\n",
    "            path2save = 'valid/'\n",
    "        else:\n",
    "            path2save = 'train/'   \n",
    "        # ラベルのストレージパス\n",
    "        if not os.path.exists(f'convertor/fold{fold}/labels/' + path2save):\n",
    "            os.makedirs(f'convertor/fold{fold}/labels/' + path2save)\n",
    "        with open(f'convertor/fold{fold}/labels/' + path2save + name + \".txt\", 'w+') as f:\n",
    "            # Yolo形式の要件に従って座標を正規化\n",
    "            row = mini[['classes','x_center','y_center','w','h']].astype(float).values\n",
    "            row = row / 1024\n",
    "            row = row.astype(str)\n",
    "            for j in range(len(row)):\n",
    "                text = ' '.join(row[j])\n",
    "                f.write(text)\n",
    "                f.write(\"\\n\")\n",
    "        if not os.path.exists(f'convertor/fold{fold}/images/{path2save}'):\n",
    "            os.makedirs(f'convertor/fold{fold}/images/{path2save}')\n",
    "        # 画像の前処理は不要 => それらをバッチとしてコピー\n",
    "        shutil.copy(f\"../input/global-wheat-detection/{source}/{name}.jpg\", f'convertor/fold{fold}/images/{path2save}/{name}.jpg')"
   ]
  },
  {
   "cell_type": "code",
   "execution_count": 8,
   "id": "1054dbe6",
   "metadata": {
    "execution": {
     "iopub.execute_input": "2023-09-09T10:02:35.298581Z",
     "iopub.status.busy": "2023-09-09T10:02:35.298322Z",
     "iopub.status.idle": "2023-09-09T10:03:19.581426Z",
     "shell.execute_reply": "2023-09-09T10:03:19.579751Z"
    },
    "papermill": {
     "duration": 44.294341,
     "end_time": "2023-09-09T10:03:19.583602",
     "exception": false,
     "start_time": "2023-09-09T10:02:35.289261",
     "status": "completed"
    },
    "tags": []
   },
   "outputs": [
    {
     "name": "stderr",
     "output_type": "stream",
     "text": [
      "100%|██████████| 3373/3373 [00:44<00:00, 76.39it/s]\n"
     ]
    }
   ],
   "source": [
    "create_labels_and_copy_images(df, fold=2, source=\"train\")"
   ]
  },
  {
   "cell_type": "code",
   "execution_count": 9,
   "id": "c6327ccb",
   "metadata": {
    "execution": {
     "iopub.execute_input": "2023-09-09T10:03:19.662098Z",
     "iopub.status.busy": "2023-09-09T10:03:19.661174Z",
     "iopub.status.idle": "2023-09-09T10:03:36.749766Z",
     "shell.execute_reply": "2023-09-09T10:03:36.748556Z"
    },
    "papermill": {
     "duration": 17.130337,
     "end_time": "2023-09-09T10:03:36.752396",
     "exception": false,
     "start_time": "2023-09-09T10:03:19.622059",
     "status": "completed"
    },
    "tags": []
   },
   "outputs": [
    {
     "name": "stdout",
     "output_type": "stream",
     "text": [
      "Cloning into 'yolov5'...\r\n",
      "remote: Enumerating objects: 15943, done.\u001b[K\r\n",
      "remote: Counting objects: 100% (63/63), done.\u001b[K\r\n",
      "remote: Compressing objects: 100% (47/47), done.\u001b[K\r\n",
      "remote: Total 15943 (delta 28), reused 39 (delta 16), pack-reused 15880\u001b[K\r\n",
      "Receiving objects: 100% (15943/15943), 14.61 MiB | 25.44 MiB/s, done.\r\n",
      "Resolving deltas: 100% (10927/10927), done.\r\n"
     ]
    }
   ],
   "source": [
    "!git clone https://github.com/ultralytics/yolov5  && cd yolov5 && pip install -r requirements.txt &> /dev/null"
   ]
  },
  {
   "cell_type": "code",
   "execution_count": 10,
   "id": "4b6fa35c",
   "metadata": {
    "execution": {
     "iopub.execute_input": "2023-09-09T10:03:36.835732Z",
     "iopub.status.busy": "2023-09-09T10:03:36.835384Z",
     "iopub.status.idle": "2023-09-09T10:03:36.950098Z",
     "shell.execute_reply": "2023-09-09T10:03:36.948664Z"
    },
    "papermill": {
     "duration": 0.158484,
     "end_time": "2023-09-09T10:03:36.952315",
     "exception": false,
     "start_time": "2023-09-09T10:03:36.793831",
     "status": "completed"
    },
    "tags": []
   },
   "outputs": [
    {
     "name": "stdout",
     "output_type": "stream",
     "text": [
      "Sat Sep  9 10:03:36 2023       \n",
      "+-----------------------------------------------------------------------------+\n",
      "| NVIDIA-SMI 470.161.03   Driver Version: 470.161.03   CUDA Version: 11.4     |\n",
      "|-------------------------------+----------------------+----------------------+\n",
      "| GPU  Name        Persistence-M| Bus-Id        Disp.A | Volatile Uncorr. ECC |\n",
      "| Fan  Temp  Perf  Pwr:Usage/Cap|         Memory-Usage | GPU-Util  Compute M. |\n",
      "|                               |                      |               MIG M. |\n",
      "|===============================+======================+======================|\n",
      "|   0  Tesla T4            Off  | 00000000:00:04.0 Off |                    0 |\n",
      "| N/A   42C    P8     9W /  70W |      0MiB / 15109MiB |      0%      Default |\n",
      "|                               |                      |                  N/A |\n",
      "+-------------------------------+----------------------+----------------------+\n",
      "|   1  Tesla T4            Off  | 00000000:00:05.0 Off |                    0 |\n",
      "| N/A   43C    P8     9W /  70W |      0MiB / 15109MiB |      0%      Default |\n",
      "|                               |                      |                  N/A |\n",
      "+-------------------------------+----------------------+----------------------+\n",
      "                                                                               \n",
      "+-----------------------------------------------------------------------------+\n",
      "| Processes:                                                                  |\n",
      "|  GPU   GI   CI        PID   Type   Process name                  GPU Memory |\n",
      "|        ID   ID                                                   Usage      |\n",
      "|=============================================================================|\n",
      "|  No running processes found                                                 |\n",
      "+-----------------------------------------------------------------------------+\n"
     ]
    }
   ],
   "source": [
    "# 割り当てられたGPUを確認\n",
    "gpu_info = !nvidia-smi\n",
    "gpu_info = '\\n'.join(gpu_info)\n",
    "if gpu_info.find('failed') >= 0:\n",
    "    print('Select the Runtime > \"Change runtime type\" menu to enable a GPU accelerator, ')\n",
    "    print('and then re-execute this cell.')\n",
    "    \n",
    "else:\n",
    "    print(gpu_info)"
   ]
  },
  {
   "cell_type": "markdown",
   "id": "b3ef2c65",
   "metadata": {
    "papermill": {
     "duration": 0.041674,
     "end_time": "2023-09-09T10:03:37.034785",
     "exception": false,
     "start_time": "2023-09-09T10:03:36.993111",
     "status": "completed"
    },
    "tags": []
   },
   "source": [
    "# YAML設定ファイル"
   ]
  },
  {
   "cell_type": "code",
   "execution_count": 11,
   "id": "844c07af",
   "metadata": {
    "execution": {
     "iopub.execute_input": "2023-09-09T10:03:37.117007Z",
     "iopub.status.busy": "2023-09-09T10:03:37.116580Z",
     "iopub.status.idle": "2023-09-09T10:03:37.123179Z",
     "shell.execute_reply": "2023-09-09T10:03:37.122009Z"
    },
    "papermill": {
     "duration": 0.050215,
     "end_time": "2023-09-09T10:03:37.125274",
     "exception": false,
     "start_time": "2023-09-09T10:03:37.075059",
     "status": "completed"
    },
    "tags": []
   },
   "outputs": [],
   "source": [
    "yaml_text = \"\"\"train: /kaggle/working/convertor/fold2/images/train/\n",
    "val: /kaggle/working/convertor/fold2/images/valid/\n",
    "\n",
    "nc: 1\n",
    "names: ['wheat']\"\"\""
   ]
  },
  {
   "cell_type": "code",
   "execution_count": 12,
   "id": "64ea7daa",
   "metadata": {
    "execution": {
     "iopub.execute_input": "2023-09-09T10:03:37.251975Z",
     "iopub.status.busy": "2023-09-09T10:03:37.250955Z",
     "iopub.status.idle": "2023-09-09T10:03:38.192939Z",
     "shell.execute_reply": "2023-09-09T10:03:38.191789Z"
    },
    "papermill": {
     "duration": 0.98711,
     "end_time": "2023-09-09T10:03:38.195709",
     "exception": false,
     "start_time": "2023-09-09T10:03:37.208599",
     "status": "completed"
    },
    "tags": []
   },
   "outputs": [
    {
     "name": "stdout",
     "output_type": "stream",
     "text": [
      "train: /kaggle/working/convertor/fold2/images/train/\r\n",
      "val: /kaggle/working/convertor/fold2/images/valid/\r\n",
      "\r\n",
      "nc: 1\r\n",
      "names: ['wheat']"
     ]
    }
   ],
   "source": [
    "with open(\"wheat.yaml\", 'w') as f:\n",
    "    f.write(yaml_text)\n",
    "%cat wheat.yaml"
   ]
  },
  {
   "cell_type": "markdown",
   "id": "0ba5fcb5",
   "metadata": {
    "papermill": {
     "duration": 0.044564,
     "end_time": "2023-09-09T10:03:38.283673",
     "exception": false,
     "start_time": "2023-09-09T10:03:38.239109",
     "status": "completed"
    },
    "tags": []
   },
   "source": [
    "# Training"
   ]
  },
  {
   "cell_type": "code",
   "execution_count": 13,
   "id": "0062867f",
   "metadata": {
    "execution": {
     "iopub.execute_input": "2023-09-09T10:03:38.371514Z",
     "iopub.status.busy": "2023-09-09T10:03:38.370437Z",
     "iopub.status.idle": "2023-09-09T10:12:47.395579Z",
     "shell.execute_reply": "2023-09-09T10:12:47.394387Z"
    },
    "papermill": {
     "duration": 549.070107,
     "end_time": "2023-09-09T10:12:47.398153",
     "exception": false,
     "start_time": "2023-09-09T10:03:38.328046",
     "status": "completed"
    },
    "tags": []
   },
   "outputs": [
    {
     "name": "stdout",
     "output_type": "stream",
     "text": [
      "\u001b[34m\u001b[1mwandb\u001b[0m: WARNING ⚠️ wandb is deprecated and will be removed in a future release. See supported integrations at https://github.com/ultralytics/yolov5#integrations.\r\n",
      "\u001b[34m\u001b[1mwandb\u001b[0m: (1) Create a W&B account\r\n",
      "\u001b[34m\u001b[1mwandb\u001b[0m: (2) Use an existing W&B account\r\n",
      "\u001b[34m\u001b[1mwandb\u001b[0m: (3) Don't visualize my results\r\n",
      "\u001b[34m\u001b[1mwandb\u001b[0m: Enter your choice: (30 second timeout) \r\n",
      "\u001b[34m\u001b[1mwandb\u001b[0m: W&B disabled due to login timeout.\r\n",
      "\u001b[34m\u001b[1mtrain: \u001b[0mweights=yolov5/yolov5s.pt, cfg=./yolov5/models/yolov5s.yaml, data=wheat.yaml, hyp=yolov5/data/hyps/hyp.scratch-low.yaml, epochs=3, batch_size=2, imgsz=512, rect=False, resume=False, nosave=False, noval=False, noautoanchor=False, noplots=False, evolve=None, bucket=, cache=ram, image_weights=False, device=, multi_scale=False, single_cls=False, optimizer=SGD, sync_bn=False, workers=2, project=yolov5/runs/train, name=yolov5x_fold2, exist_ok=False, quad=False, cos_lr=False, label_smoothing=0.0, patience=100, freeze=[0], save_period=-1, seed=0, local_rank=-1, entity=None, upload_dataset=False, bbox_interval=-1, artifact_alias=latest\r\n",
      "\u001b[34m\u001b[1mgithub: \u001b[0mup to date with https://github.com/ultralytics/yolov5 ✅\r\n",
      "YOLOv5 🚀 v7.0-215-ga6659d0 Python-3.10.12 torch-2.0.0 CUDA:0 (Tesla T4, 15110MiB)\r\n",
      "\r\n",
      "\u001b[34m\u001b[1mhyperparameters: \u001b[0mlr0=0.01, lrf=0.01, momentum=0.937, weight_decay=0.0005, warmup_epochs=3.0, warmup_momentum=0.8, warmup_bias_lr=0.1, box=0.05, cls=0.5, cls_pw=1.0, obj=1.0, obj_pw=1.0, iou_t=0.2, anchor_t=4.0, fl_gamma=0.0, hsv_h=0.015, hsv_s=0.7, hsv_v=0.4, degrees=0.0, translate=0.1, scale=0.5, shear=0.0, perspective=0.0, flipud=0.0, fliplr=0.5, mosaic=1.0, mixup=0.0, copy_paste=0.0\r\n",
      "\u001b[34m\u001b[1mComet: \u001b[0mrun 'pip install comet_ml' to automatically track and visualize YOLOv5 🚀 runs in Comet\r\n",
      "\u001b[34m\u001b[1mTensorBoard: \u001b[0mStart with 'tensorboard --logdir yolov5/runs/train', view at http://localhost:6006/\r\n",
      "Downloading https://ultralytics.com/assets/Arial.ttf to /root/.config/Ultralytics/Arial.ttf...\r\n",
      "100%|████████████████████████████████████████| 755k/755k [00:00<00:00, 22.3MB/s]\r\n",
      "Downloading https://github.com/ultralytics/yolov5/releases/download/v7.0/yolov5s.pt to yolov5/yolov5s.pt...\r\n",
      "100%|██████████████████████████████████████| 14.1M/14.1M [00:00<00:00, 76.8MB/s]\r\n",
      "\r\n",
      "Overriding model.yaml nc=80 with nc=1\r\n",
      "\r\n",
      "                 from  n    params  module                                  arguments                     \r\n",
      "  0                -1  1      3520  models.common.Conv                      [3, 32, 6, 2, 2]              \r\n",
      "  1                -1  1     18560  models.common.Conv                      [32, 64, 3, 2]                \r\n",
      "  2                -1  1     18816  models.common.C3                        [64, 64, 1]                   \r\n",
      "  3                -1  1     73984  models.common.Conv                      [64, 128, 3, 2]               \r\n",
      "  4                -1  2    115712  models.common.C3                        [128, 128, 2]                 \r\n",
      "  5                -1  1    295424  models.common.Conv                      [128, 256, 3, 2]              \r\n",
      "  6                -1  3    625152  models.common.C3                        [256, 256, 3]                 \r\n",
      "  7                -1  1   1180672  models.common.Conv                      [256, 512, 3, 2]              \r\n",
      "  8                -1  1   1182720  models.common.C3                        [512, 512, 1]                 \r\n",
      "  9                -1  1    656896  models.common.SPPF                      [512, 512, 5]                 \r\n",
      " 10                -1  1    131584  models.common.Conv                      [512, 256, 1, 1]              \r\n",
      " 11                -1  1         0  torch.nn.modules.upsampling.Upsample    [None, 2, 'nearest']          \r\n",
      " 12           [-1, 6]  1         0  models.common.Concat                    [1]                           \r\n",
      " 13                -1  1    361984  models.common.C3                        [512, 256, 1, False]          \r\n",
      " 14                -1  1     33024  models.common.Conv                      [256, 128, 1, 1]              \r\n",
      " 15                -1  1         0  torch.nn.modules.upsampling.Upsample    [None, 2, 'nearest']          \r\n",
      " 16           [-1, 4]  1         0  models.common.Concat                    [1]                           \r\n",
      " 17                -1  1     90880  models.common.C3                        [256, 128, 1, False]          \r\n",
      " 18                -1  1    147712  models.common.Conv                      [128, 128, 3, 2]              \r\n",
      " 19          [-1, 14]  1         0  models.common.Concat                    [1]                           \r\n",
      " 20                -1  1    296448  models.common.C3                        [256, 256, 1, False]          \r\n",
      " 21                -1  1    590336  models.common.Conv                      [256, 256, 3, 2]              \r\n",
      " 22          [-1, 10]  1         0  models.common.Concat                    [1]                           \r\n",
      " 23                -1  1   1182720  models.common.C3                        [512, 512, 1, False]          \r\n",
      " 24      [17, 20, 23]  1     16182  models.yolo.Detect                      [1, [[10, 13, 16, 30, 33, 23], [30, 61, 62, 45, 59, 119], [116, 90, 156, 198, 373, 326]], [128, 256, 512]]\r\n",
      "YOLOv5s summary: 214 layers, 7022326 parameters, 7022326 gradients, 15.9 GFLOPs\r\n",
      "\r\n",
      "Transferred 342/349 items from yolov5/yolov5s.pt\r\n",
      "\u001b[34m\u001b[1mAMP: \u001b[0mchecks passed ✅\r\n",
      "\u001b[34m\u001b[1moptimizer:\u001b[0m SGD(lr=0.01) with parameter groups 57 weight(decay=0.0), 60 weight(decay=0.0005), 60 bias\r\n",
      "WARNING ⚠️ DP not recommended, use torch.distributed.run for best DDP Multi-GPU results.\r\n",
      "See Multi-GPU Tutorial at https://docs.ultralytics.com/yolov5/tutorials/multi_gpu_training to get started.\r\n",
      "\u001b[34m\u001b[1malbumentations: \u001b[0mBlur(p=0.01, blur_limit=(3, 7)), MedianBlur(p=0.01, blur_limit=(3, 7)), ToGray(p=0.01), CLAHE(p=0.01, clip_limit=(1, 4.0), tile_grid_size=(8, 8))\r\n",
      "\u001b[34m\u001b[1mtrain: \u001b[0mScanning /kaggle/working/convertor/fold2/labels/train... 48 images, 0 bac\u001b[0m\r\n",
      "\u001b[34m\u001b[1mtrain: \u001b[0mNew cache created: /kaggle/working/convertor/fold2/labels/train.cache\r\n",
      "\u001b[34m\u001b[1mtrain: \u001b[0mCaching images (0.0GB ram): 100%|██████████| 48/48 [00:00<00:00, 80.14it/\u001b[0m\r\n",
      "\u001b[34m\u001b[1mval: \u001b[0mScanning /kaggle/working/convertor/fold2/labels/valid... 3325 images, 0 bac\u001b[0m\r\n",
      "\u001b[34m\u001b[1mval: \u001b[0mNew cache created: /kaggle/working/convertor/fold2/labels/valid.cache\r\n",
      "\u001b[34m\u001b[1mval: \u001b[0mCaching images (2.4GB ram): 100%|██████████| 3325/3325 [00:44<00:00, 73.93i\u001b[0m\r\n",
      "\r\n",
      "\u001b[34m\u001b[1mAutoAnchor: \u001b[0m5.99 anchors/target, 0.997 Best Possible Recall (BPR). Current anchors are a good fit to dataset ✅\r\n",
      "Plotting labels to yolov5/runs/train/yolov5x_fold2/labels.jpg... \r\n",
      "Image sizes 512 train, 512 val\r\n",
      "Using 1 dataloader workers\r\n",
      "Logging results to \u001b[1myolov5/runs/train/yolov5x_fold2\u001b[0m\r\n",
      "Starting training for 3 epochs...\r\n",
      "\r\n",
      "      Epoch    GPU_mem   box_loss   obj_loss   cls_loss  Instances       Size\r\n",
      "        0/2     0.466G     0.1201    0.07523          0         59        512: 1\r\n",
      "                 Class     Images  Instances          P          R      mAP50   \r\n",
      "                   all       3325     147430    0.00594     0.0402    0.00318   0.000758\r\n",
      "\r\n",
      "      Epoch    GPU_mem   box_loss   obj_loss   cls_loss  Instances       Size\r\n",
      "        1/2     0.466G     0.1174    0.04878          0         18        512: 1\r\n",
      "                 Class     Images  Instances          P          R      mAP50   \r\n",
      "                   all       3325     147430    0.00838     0.0567    0.00443    0.00103\r\n",
      "\r\n",
      "      Epoch    GPU_mem   box_loss   obj_loss   cls_loss  Instances       Size\r\n",
      "        2/2     0.466G     0.1156     0.0605          0         12        512: 1\r\n",
      "                 Class     Images  Instances          P          R      mAP50   \r\n",
      "                   all       3325     147430    0.00988     0.0668     0.0053    0.00122\r\n",
      "\r\n",
      "3 epochs completed in 0.087 hours.\r\n",
      "Optimizer stripped from yolov5/runs/train/yolov5x_fold2/weights/last.pt, 14.4MB\r\n",
      "Optimizer stripped from yolov5/runs/train/yolov5x_fold2/weights/best.pt, 14.4MB\r\n",
      "\r\n",
      "Validating yolov5/runs/train/yolov5x_fold2/weights/best.pt...\r\n",
      "Fusing layers... \r\n",
      "YOLOv5s summary: 157 layers, 7012822 parameters, 0 gradients, 15.8 GFLOPs\r\n",
      "                 Class     Images  Instances          P          R      mAP50   \r\n",
      "                   all       3325     147430    0.00991      0.067    0.00531    0.00122\r\n",
      "Results saved to \u001b[1myolov5/runs/train/yolov5x_fold2\u001b[0m\r\n"
     ]
    }
   ],
   "source": [
    "!python ./yolov5/train.py --img 512 --batch 2 --epochs 3 --workers 2 --data wheat.yaml --cfg \"./yolov5/models/yolov5s.yaml\" --name yolov5x_fold2 --cache"
   ]
  },
  {
   "cell_type": "code",
   "execution_count": 14,
   "id": "3a67fbdb",
   "metadata": {
    "execution": {
     "iopub.execute_input": "2023-09-09T10:12:48.055443Z",
     "iopub.status.busy": "2023-09-09T10:12:48.055030Z",
     "iopub.status.idle": "2023-09-09T10:12:49.007275Z",
     "shell.execute_reply": "2023-09-09T10:12:49.006047Z"
    },
    "papermill": {
     "duration": 1.28413,
     "end_time": "2023-09-09T10:12:49.010058",
     "exception": false,
     "start_time": "2023-09-09T10:12:47.725928",
     "status": "completed"
    },
    "tags": []
   },
   "outputs": [
    {
     "name": "stdout",
     "output_type": "stream",
     "text": [
      "total 28M\r\n",
      "-rw-r--r-- 1 root root 14M Sep  9 10:10 best.pt\r\n",
      "-rw-r--r-- 1 root root 14M Sep  9 10:10 last.pt\r\n"
     ]
    }
   ],
   "source": [
    "!ls ./yolov5/runs/train/yolov5x_fold2/weights/ -lh"
   ]
  },
  {
   "cell_type": "markdown",
   "id": "2d4ed3f5",
   "metadata": {
    "papermill": {
     "duration": 0.36934,
     "end_time": "2023-09-09T10:12:49.708444",
     "exception": false,
     "start_time": "2023-09-09T10:12:49.339104",
     "status": "completed"
    },
    "tags": []
   },
   "source": [
    "# Prediction"
   ]
  },
  {
   "cell_type": "code",
   "execution_count": 15,
   "id": "d0908d5e",
   "metadata": {
    "execution": {
     "iopub.execute_input": "2023-09-09T10:12:50.367666Z",
     "iopub.status.busy": "2023-09-09T10:12:50.367293Z",
     "iopub.status.idle": "2023-09-09T10:12:51.323084Z",
     "shell.execute_reply": "2023-09-09T10:12:51.321943Z"
    },
    "papermill": {
     "duration": 1.285747,
     "end_time": "2023-09-09T10:12:51.325463",
     "exception": false,
     "start_time": "2023-09-09T10:12:50.039716",
     "status": "completed"
    },
    "tags": []
   },
   "outputs": [
    {
     "name": "stdout",
     "output_type": "stream",
     "text": [
      "2fd875eaa.jpg  51b3e36ab.jpg  53f253011.jpg  aac893a91.jpg  cc3532ff6.jpg\r\n",
      "348a992bb.jpg  51f1be19e.jpg  796707dd7.jpg  cb8d261a3.jpg  f5a1f0358.jpg\r\n"
     ]
    }
   ],
   "source": [
    "!ls /kaggle/input/global-wheat-detection/test"
   ]
  },
  {
   "cell_type": "code",
   "execution_count": 16,
   "id": "bc16c37b",
   "metadata": {
    "execution": {
     "iopub.execute_input": "2023-09-09T10:12:51.977653Z",
     "iopub.status.busy": "2023-09-09T10:12:51.977274Z",
     "iopub.status.idle": "2023-09-09T10:13:03.586396Z",
     "shell.execute_reply": "2023-09-09T10:13:03.585029Z"
    },
    "papermill": {
     "duration": 11.936583,
     "end_time": "2023-09-09T10:13:03.588962",
     "exception": false,
     "start_time": "2023-09-09T10:12:51.652379",
     "status": "completed"
    },
    "tags": []
   },
   "outputs": [
    {
     "name": "stdout",
     "output_type": "stream",
     "text": [
      "\u001b[34m\u001b[1mdetect: \u001b[0mweights=['./yolov5/runs/train/yolov5x_fold2/weights/best.pt'], source=/kaggle/input/global-wheat-detection/test, data=yolov5/data/coco128.yaml, imgsz=[512, 512], conf_thres=0.1, iou_thres=0.45, max_det=1000, device=, view_img=False, save_txt=True, save_csv=False, save_conf=True, save_crop=False, nosave=False, classes=None, agnostic_nms=False, augment=False, visualize=False, update=False, project=yolov5/runs/detect, name=exp, exist_ok=True, line_thickness=3, hide_labels=False, hide_conf=False, half=False, dnn=False, vid_stride=1\r\n",
      "YOLOv5 🚀 v7.0-215-ga6659d0 Python-3.10.12 torch-2.0.0 CUDA:0 (Tesla T4, 15110MiB)\r\n",
      "\r\n",
      "Fusing layers... \r\n",
      "YOLOv5s summary: 157 layers, 7012822 parameters, 0 gradients, 15.8 GFLOPs\r\n",
      "image 1/10 /kaggle/input/global-wheat-detection/test/2fd875eaa.jpg: 512x512 3 wheats, 7.6ms\r\n",
      "image 2/10 /kaggle/input/global-wheat-detection/test/348a992bb.jpg: 512x512 3 wheats, 7.7ms\r\n",
      "image 3/10 /kaggle/input/global-wheat-detection/test/51b3e36ab.jpg: 512x512 4 wheats, 7.7ms\r\n",
      "image 4/10 /kaggle/input/global-wheat-detection/test/51f1be19e.jpg: 512x512 (no detections), 7.7ms\r\n",
      "image 5/10 /kaggle/input/global-wheat-detection/test/53f253011.jpg: 512x512 4 wheats, 8.0ms\r\n",
      "image 6/10 /kaggle/input/global-wheat-detection/test/796707dd7.jpg: 512x512 3 wheats, 7.7ms\r\n",
      "image 7/10 /kaggle/input/global-wheat-detection/test/aac893a91.jpg: 512x512 2 wheats, 7.6ms\r\n",
      "image 8/10 /kaggle/input/global-wheat-detection/test/cb8d261a3.jpg: 512x512 1 wheat, 7.6ms\r\n",
      "image 9/10 /kaggle/input/global-wheat-detection/test/cc3532ff6.jpg: 512x512 7 wheats, 7.6ms\r\n",
      "image 10/10 /kaggle/input/global-wheat-detection/test/f5a1f0358.jpg: 512x512 3 wheats, 7.7ms\r\n",
      "Speed: 0.4ms pre-process, 7.7ms inference, 1.2ms NMS per image at shape (1, 3, 512, 512)\r\n",
      "Results saved to \u001b[1myolov5/runs/detect/exp\u001b[0m\r\n",
      "9 labels saved to yolov5/runs/detect/exp/labels\r\n"
     ]
    }
   ],
   "source": [
    "!python ./yolov5/detect.py --weights ./yolov5/runs/train/yolov5x_fold2/weights/best.pt --img 512 --conf 0.1 --source /kaggle/input/global-wheat-detection/test --save-txt --save-conf --exist-ok"
   ]
  },
  {
   "cell_type": "code",
   "execution_count": 17,
   "id": "38e79365",
   "metadata": {
    "execution": {
     "iopub.execute_input": "2023-09-09T10:13:04.297735Z",
     "iopub.status.busy": "2023-09-09T10:13:04.297345Z",
     "iopub.status.idle": "2023-09-09T10:13:05.271591Z",
     "shell.execute_reply": "2023-09-09T10:13:05.270489Z"
    },
    "papermill": {
     "duration": 1.349961,
     "end_time": "2023-09-09T10:13:05.273924",
     "exception": false,
     "start_time": "2023-09-09T10:13:03.923963",
     "status": "completed"
    },
    "tags": []
   },
   "outputs": [
    {
     "name": "stdout",
     "output_type": "stream",
     "text": [
      "2fd875eaa.txt  51b3e36ab.txt  796707dd7.txt  cb8d261a3.txt  f5a1f0358.txt\r\n",
      "348a992bb.txt  53f253011.txt  aac893a91.txt  cc3532ff6.txt\r\n"
     ]
    }
   ],
   "source": [
    "!ls ./yolov5/runs/detect/exp/labels/"
   ]
  },
  {
   "cell_type": "code",
   "execution_count": 18,
   "id": "4d264661",
   "metadata": {
    "execution": {
     "iopub.execute_input": "2023-09-09T10:13:05.977764Z",
     "iopub.status.busy": "2023-09-09T10:13:05.977347Z",
     "iopub.status.idle": "2023-09-09T10:13:05.984197Z",
     "shell.execute_reply": "2023-09-09T10:13:05.983173Z"
    },
    "papermill": {
     "duration": 0.33805,
     "end_time": "2023-09-09T10:13:05.986077",
     "exception": false,
     "start_time": "2023-09-09T10:13:05.648027",
     "status": "completed"
    },
    "tags": []
   },
   "outputs": [],
   "source": [
    "def convert_yolo_to_coco(s):\n",
    "    x = int(1024 * (s[1] - s[3]/2))\n",
    "    y = int(1024 * (s[2] - s[4]/2))\n",
    "    w = int(1024 * s[3])\n",
    "    h = int(1024 * s[4])\n",
    "    \n",
    "    return(str(s[5]) + ' ' + str(x) + ' ' + str(y) + ' ' + str(w) + ' ' + str(h))"
   ]
  },
  {
   "cell_type": "code",
   "execution_count": 19,
   "id": "5eeb3f81",
   "metadata": {
    "execution": {
     "iopub.execute_input": "2023-09-09T10:13:06.641557Z",
     "iopub.status.busy": "2023-09-09T10:13:06.641196Z",
     "iopub.status.idle": "2023-09-09T10:13:06.668322Z",
     "shell.execute_reply": "2023-09-09T10:13:06.667454Z"
    },
    "papermill": {
     "duration": 0.357026,
     "end_time": "2023-09-09T10:13:06.670352",
     "exception": false,
     "start_time": "2023-09-09T10:13:06.313326",
     "status": "completed"
    },
    "tags": []
   },
   "outputs": [],
   "source": [
    "with open('submission.csv', 'w') as myfile:\n",
    "\n",
    "    # prepare submission\n",
    "    wfolder = './yolov5/runs/detect/exp/labels/'\n",
    "    for f in os.listdir(wfolder):\n",
    "        fname = wfolder + f\n",
    "        xdat = pd.read_csv(fname, sep = ' ', header = None)\n",
    "        outline = f[:-4] + ' ' + ' '.join(list(xdat.apply(lambda s: convert_yolo_to_coco(s), axis = 1)))\n",
    "        myfile.write(outline + '\\n')\n",
    "        \n",
    "myfile.close()   "
   ]
  },
  {
   "cell_type": "code",
   "execution_count": 20,
   "id": "b80ff5ad",
   "metadata": {
    "execution": {
     "iopub.execute_input": "2023-09-09T10:13:07.327201Z",
     "iopub.status.busy": "2023-09-09T10:13:07.326838Z",
     "iopub.status.idle": "2023-09-09T10:13:08.265221Z",
     "shell.execute_reply": "2023-09-09T10:13:08.263977Z"
    },
    "papermill": {
     "duration": 1.270715,
     "end_time": "2023-09-09T10:13:08.267954",
     "exception": false,
     "start_time": "2023-09-09T10:13:06.997239",
     "status": "completed"
    },
    "tags": []
   },
   "outputs": [
    {
     "name": "stdout",
     "output_type": "stream",
     "text": [
      "cb8d261a3 0.101735 0 0 872 641\r\n",
      "aac893a91 0.100034 363 322 542 300 0.157436 343 408 300 282\r\n",
      "53f253011 0.105347 450 486 108 72 0.118474 46 0 254 183 0.134971 545 413 60 126 0.159892 538 494 75 76\r\n",
      "cc3532ff6 0.106505 637 871 197 152 0.107327 419 857 252 144 0.112828 242 510 467 46 0.120426 176 532 211 144 0.131002 74 577 412 167 0.164819 272 679 387 270 0.170624 828 610 195 80\r\n",
      "f5a1f0358 0.127284 209 88 160 17 0.190621 212 76 190 40 0.193568 231 68 152 19\r\n",
      "51b3e36ab 0.106601 444 425 106 133 0.110323 444 510 72 81 0.120233 228 383 485 572 0.125546 146 587 670 311\r\n",
      "796707dd7 0.104385 387 452 323 57 0.110018 374 0 218 1 0.200723 694 130 218 108\r\n",
      "348a992bb 0.108021 342 440 332 94 0.109444 683 430 339 120 0.12174 313 478 350 120\r\n",
      "2fd875eaa 0.111721 434 99 186 924 0.114829 467 432 167 200 0.11612 854 471 168 245\r\n"
     ]
    }
   ],
   "source": [
    "!cat submission.csv"
   ]
  }
 ],
 "kernelspec": {
  "display_name": "Python 3",
  "language": "python",
  "name": "python3"
 },
 "language_info": {
  "codemirror_mode": {
   "name": "ipython",
   "version": 3
  },
  "file_extension": ".py",
  "mimetype": "text/x-python",
  "name": "python",
  "nbconvert_exporter": "python",
  "pygments_lexer": "ipython3",
  "version": "3.6.4"
 },
 "metadata": {
  "kernelspec": {
   "display_name": "Python 3",
   "language": "python",
   "name": "python3"
  },
  "language_info": {
   "codemirror_mode": {
    "name": "ipython",
    "version": 3
   },
   "file_extension": ".py",
   "mimetype": "text/x-python",
   "name": "python",
   "nbconvert_exporter": "python",
   "pygments_lexer": "ipython3",
   "version": "3.10.12"
  },
  "papermill": {
   "default_parameters": {},
   "duration": 641.160217,
   "end_time": "2023-09-09T10:13:09.019631",
   "environment_variables": {},
   "exception": null,
   "input_path": "__notebook__.ipynb",
   "output_path": "__notebook__.ipynb",
   "parameters": {},
   "start_time": "2023-09-09T10:02:27.859414",
   "version": "2.4.0"
  }
 },
 "nbformat": 4,
 "nbformat_minor": 5
}
