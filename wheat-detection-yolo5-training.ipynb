{
 "cells": [
  {
   "cell_type": "code",
   "execution_count": 1,
   "id": "04fc4b5b",
   "metadata": {
    "_cell_guid": "b1076dfc-b9ad-4769-8c92-a6c4dae69d19",
    "_uuid": "8f2839f25d086af736a60e9eeb907d3b93b6e0e5",
    "execution": {
     "iopub.execute_input": "2023-09-09T07:15:02.274290Z",
     "iopub.status.busy": "2023-09-09T07:15:02.273792Z",
     "iopub.status.idle": "2023-09-09T07:15:04.155657Z",
     "shell.execute_reply": "2023-09-09T07:15:04.154717Z"
    },
    "papermill": {
     "duration": 1.895355,
     "end_time": "2023-09-09T07:15:04.158251",
     "exception": false,
     "start_time": "2023-09-09T07:15:02.262896",
     "status": "completed"
    },
    "tags": []
   },
   "outputs": [
    {
     "name": "stderr",
     "output_type": "stream",
     "text": [
      "/opt/conda/lib/python3.10/site-packages/scipy/__init__.py:146: UserWarning: A NumPy version >=1.16.5 and <1.23.0 is required for this version of SciPy (detected version 1.23.5\n",
      "  warnings.warn(f\"A NumPy version >={np_minversion} and <{np_maxversion}\"\n"
     ]
    }
   ],
   "source": [
    "import numpy as np \n",
    "import pandas as pd \n",
    "import os\n",
    "from tqdm import tqdm\n",
    "import shutil\n",
    "\n",
    "from sklearn.model_selection import StratifiedKFold"
   ]
  },
  {
   "cell_type": "markdown",
   "id": "83cec853",
   "metadata": {
    "papermill": {
     "duration": 0.008256,
     "end_time": "2023-09-09T07:15:04.175224",
     "exception": false,
     "start_time": "2023-09-09T07:15:04.166968",
     "status": "completed"
    },
    "tags": []
   },
   "source": [
    "# Data"
   ]
  },
  {
   "cell_type": "code",
   "execution_count": 2,
   "id": "7e67480a",
   "metadata": {
    "execution": {
     "iopub.execute_input": "2023-09-09T07:15:04.191836Z",
     "iopub.status.busy": "2023-09-09T07:15:04.191433Z",
     "iopub.status.idle": "2023-09-09T07:15:04.479879Z",
     "shell.execute_reply": "2023-09-09T07:15:04.478851Z"
    },
    "papermill": {
     "duration": 0.300487,
     "end_time": "2023-09-09T07:15:04.483535",
     "exception": false,
     "start_time": "2023-09-09T07:15:04.183048",
     "status": "completed"
    },
    "tags": []
   },
   "outputs": [
    {
     "data": {
      "text/html": [
       "<div>\n",
       "<style scoped>\n",
       "    .dataframe tbody tr th:only-of-type {\n",
       "        vertical-align: middle;\n",
       "    }\n",
       "\n",
       "    .dataframe tbody tr th {\n",
       "        vertical-align: top;\n",
       "    }\n",
       "\n",
       "    .dataframe thead th {\n",
       "        text-align: right;\n",
       "    }\n",
       "</style>\n",
       "<table border=\"1\" class=\"dataframe\">\n",
       "  <thead>\n",
       "    <tr style=\"text-align: right;\">\n",
       "      <th></th>\n",
       "      <th>image_id</th>\n",
       "      <th>width</th>\n",
       "      <th>height</th>\n",
       "      <th>bbox</th>\n",
       "      <th>source</th>\n",
       "    </tr>\n",
       "  </thead>\n",
       "  <tbody>\n",
       "    <tr>\n",
       "      <th>0</th>\n",
       "      <td>b6ab77fd7</td>\n",
       "      <td>1024</td>\n",
       "      <td>1024</td>\n",
       "      <td>[834.0, 222.0, 56.0, 36.0]</td>\n",
       "      <td>usask_1</td>\n",
       "    </tr>\n",
       "    <tr>\n",
       "      <th>1</th>\n",
       "      <td>b6ab77fd7</td>\n",
       "      <td>1024</td>\n",
       "      <td>1024</td>\n",
       "      <td>[226.0, 548.0, 130.0, 58.0]</td>\n",
       "      <td>usask_1</td>\n",
       "    </tr>\n",
       "    <tr>\n",
       "      <th>2</th>\n",
       "      <td>b6ab77fd7</td>\n",
       "      <td>1024</td>\n",
       "      <td>1024</td>\n",
       "      <td>[377.0, 504.0, 74.0, 160.0]</td>\n",
       "      <td>usask_1</td>\n",
       "    </tr>\n",
       "    <tr>\n",
       "      <th>3</th>\n",
       "      <td>b6ab77fd7</td>\n",
       "      <td>1024</td>\n",
       "      <td>1024</td>\n",
       "      <td>[834.0, 95.0, 109.0, 107.0]</td>\n",
       "      <td>usask_1</td>\n",
       "    </tr>\n",
       "    <tr>\n",
       "      <th>4</th>\n",
       "      <td>b6ab77fd7</td>\n",
       "      <td>1024</td>\n",
       "      <td>1024</td>\n",
       "      <td>[26.0, 144.0, 124.0, 117.0]</td>\n",
       "      <td>usask_1</td>\n",
       "    </tr>\n",
       "  </tbody>\n",
       "</table>\n",
       "</div>"
      ],
      "text/plain": [
       "    image_id  width  height                         bbox   source\n",
       "0  b6ab77fd7   1024    1024   [834.0, 222.0, 56.0, 36.0]  usask_1\n",
       "1  b6ab77fd7   1024    1024  [226.0, 548.0, 130.0, 58.0]  usask_1\n",
       "2  b6ab77fd7   1024    1024  [377.0, 504.0, 74.0, 160.0]  usask_1\n",
       "3  b6ab77fd7   1024    1024  [834.0, 95.0, 109.0, 107.0]  usask_1\n",
       "4  b6ab77fd7   1024    1024  [26.0, 144.0, 124.0, 117.0]  usask_1"
      ]
     },
     "execution_count": 2,
     "metadata": {},
     "output_type": "execute_result"
    }
   ],
   "source": [
    "df = pd.read_csv('../input/global-wheat-detection/train.csv')\n",
    "df.head()"
   ]
  },
  {
   "cell_type": "code",
   "execution_count": 3,
   "id": "9ddc4600",
   "metadata": {
    "execution": {
     "iopub.execute_input": "2023-09-09T07:15:04.502232Z",
     "iopub.status.busy": "2023-09-09T07:15:04.500781Z",
     "iopub.status.idle": "2023-09-09T07:15:04.508302Z",
     "shell.execute_reply": "2023-09-09T07:15:04.507404Z"
    },
    "papermill": {
     "duration": 0.018328,
     "end_time": "2023-09-09T07:15:04.510371",
     "exception": false,
     "start_time": "2023-09-09T07:15:04.492043",
     "status": "completed"
    },
    "tags": []
   },
   "outputs": [],
   "source": [
    "# データフレームをyolo形式に変換\n",
    "def convert_to_yolo(df: pd.DataFrame) -> pd.DataFrame:\n",
    "    bboxs = np.stack(df['bbox'].apply(lambda x: np.fromstring(x[1:-1], sep=',')))\n",
    "    for i, column in enumerate(['x', 'y', 'w', 'h']):\n",
    "        df[column] = bboxs[:,i]\n",
    "    df.drop(columns=['bbox'], inplace=True)\n",
    "    df['x_center'] = df['x'] + df['w']/2\n",
    "    df['y_center'] = df['y'] + df['h']/2\n",
    "    df['classes'] = 0\n",
    "    return df"
   ]
  },
  {
   "cell_type": "code",
   "execution_count": 4,
   "id": "2fe14573",
   "metadata": {
    "execution": {
     "iopub.execute_input": "2023-09-09T07:15:04.526972Z",
     "iopub.status.busy": "2023-09-09T07:15:04.526693Z",
     "iopub.status.idle": "2023-09-09T07:15:05.393608Z",
     "shell.execute_reply": "2023-09-09T07:15:05.392722Z"
    },
    "papermill": {
     "duration": 0.877797,
     "end_time": "2023-09-09T07:15:05.395780",
     "exception": false,
     "start_time": "2023-09-09T07:15:04.517983",
     "status": "completed"
    },
    "tags": []
   },
   "outputs": [
    {
     "data": {
      "text/html": [
       "<div>\n",
       "<style scoped>\n",
       "    .dataframe tbody tr th:only-of-type {\n",
       "        vertical-align: middle;\n",
       "    }\n",
       "\n",
       "    .dataframe tbody tr th {\n",
       "        vertical-align: top;\n",
       "    }\n",
       "\n",
       "    .dataframe thead th {\n",
       "        text-align: right;\n",
       "    }\n",
       "</style>\n",
       "<table border=\"1\" class=\"dataframe\">\n",
       "  <thead>\n",
       "    <tr style=\"text-align: right;\">\n",
       "      <th></th>\n",
       "      <th>image_id</th>\n",
       "      <th>width</th>\n",
       "      <th>height</th>\n",
       "      <th>source</th>\n",
       "      <th>x</th>\n",
       "      <th>y</th>\n",
       "      <th>w</th>\n",
       "      <th>h</th>\n",
       "      <th>x_center</th>\n",
       "      <th>y_center</th>\n",
       "      <th>classes</th>\n",
       "    </tr>\n",
       "  </thead>\n",
       "  <tbody>\n",
       "    <tr>\n",
       "      <th>0</th>\n",
       "      <td>b6ab77fd7</td>\n",
       "      <td>1024</td>\n",
       "      <td>1024</td>\n",
       "      <td>usask_1</td>\n",
       "      <td>834.0</td>\n",
       "      <td>222.0</td>\n",
       "      <td>56.0</td>\n",
       "      <td>36.0</td>\n",
       "      <td>862.0</td>\n",
       "      <td>240.0</td>\n",
       "      <td>0</td>\n",
       "    </tr>\n",
       "    <tr>\n",
       "      <th>1</th>\n",
       "      <td>b6ab77fd7</td>\n",
       "      <td>1024</td>\n",
       "      <td>1024</td>\n",
       "      <td>usask_1</td>\n",
       "      <td>226.0</td>\n",
       "      <td>548.0</td>\n",
       "      <td>130.0</td>\n",
       "      <td>58.0</td>\n",
       "      <td>291.0</td>\n",
       "      <td>577.0</td>\n",
       "      <td>0</td>\n",
       "    </tr>\n",
       "    <tr>\n",
       "      <th>2</th>\n",
       "      <td>b6ab77fd7</td>\n",
       "      <td>1024</td>\n",
       "      <td>1024</td>\n",
       "      <td>usask_1</td>\n",
       "      <td>377.0</td>\n",
       "      <td>504.0</td>\n",
       "      <td>74.0</td>\n",
       "      <td>160.0</td>\n",
       "      <td>414.0</td>\n",
       "      <td>584.0</td>\n",
       "      <td>0</td>\n",
       "    </tr>\n",
       "    <tr>\n",
       "      <th>3</th>\n",
       "      <td>b6ab77fd7</td>\n",
       "      <td>1024</td>\n",
       "      <td>1024</td>\n",
       "      <td>usask_1</td>\n",
       "      <td>834.0</td>\n",
       "      <td>95.0</td>\n",
       "      <td>109.0</td>\n",
       "      <td>107.0</td>\n",
       "      <td>888.5</td>\n",
       "      <td>148.5</td>\n",
       "      <td>0</td>\n",
       "    </tr>\n",
       "    <tr>\n",
       "      <th>4</th>\n",
       "      <td>b6ab77fd7</td>\n",
       "      <td>1024</td>\n",
       "      <td>1024</td>\n",
       "      <td>usask_1</td>\n",
       "      <td>26.0</td>\n",
       "      <td>144.0</td>\n",
       "      <td>124.0</td>\n",
       "      <td>117.0</td>\n",
       "      <td>88.0</td>\n",
       "      <td>202.5</td>\n",
       "      <td>0</td>\n",
       "    </tr>\n",
       "  </tbody>\n",
       "</table>\n",
       "</div>"
      ],
      "text/plain": [
       "    image_id  width  height   source      x      y      w      h  x_center  \\\n",
       "0  b6ab77fd7   1024    1024  usask_1  834.0  222.0   56.0   36.0     862.0   \n",
       "1  b6ab77fd7   1024    1024  usask_1  226.0  548.0  130.0   58.0     291.0   \n",
       "2  b6ab77fd7   1024    1024  usask_1  377.0  504.0   74.0  160.0     414.0   \n",
       "3  b6ab77fd7   1024    1024  usask_1  834.0   95.0  109.0  107.0     888.5   \n",
       "4  b6ab77fd7   1024    1024  usask_1   26.0  144.0  124.0  117.0      88.0   \n",
       "\n",
       "   y_center  classes  \n",
       "0     240.0        0  \n",
       "1     577.0        0  \n",
       "2     584.0        0  \n",
       "3     148.5        0  \n",
       "4     202.5        0  "
      ]
     },
     "execution_count": 4,
     "metadata": {},
     "output_type": "execute_result"
    }
   ],
   "source": [
    "df = convert_to_yolo(df)\n",
    "df.head()"
   ]
  },
  {
   "cell_type": "code",
   "execution_count": 5,
   "id": "d97ea8cd",
   "metadata": {
    "execution": {
     "iopub.execute_input": "2023-09-09T07:15:05.414895Z",
     "iopub.status.busy": "2023-09-09T07:15:05.413521Z",
     "iopub.status.idle": "2023-09-09T07:15:05.421099Z",
     "shell.execute_reply": "2023-09-09T07:15:05.420239Z"
    },
    "papermill": {
     "duration": 0.018648,
     "end_time": "2023-09-09T07:15:05.423150",
     "exception": false,
     "start_time": "2023-09-09T07:15:05.404502",
     "status": "completed"
    },
    "tags": []
   },
   "outputs": [],
   "source": [
    "# データを分割 \n",
    "def stratified_kfold_split_df(df: pd.DataFrame) -> pd.DataFrame:\n",
    "    fold_id = np.zeros((df.shape[0],1))\n",
    "    skf = StratifiedKFold(n_splits = 5, random_state = 42, shuffle = True)\n",
    "    \n",
    "    # sourceでの層化\n",
    "    for (ff, (train_index, test_index)) in enumerate(skf.split(df, df['source'])):\n",
    "        fold_id[test_index]= int(ff)\n",
    "\n",
    "    df['fold'] = fold_id.copy()\n",
    "    df = df[['image_id','x', 'y', 'w', 'h','x_center','y_center','classes', 'fold']]\n",
    "    return df"
   ]
  },
  {
   "cell_type": "code",
   "execution_count": 6,
   "id": "24696b29",
   "metadata": {
    "execution": {
     "iopub.execute_input": "2023-09-09T07:15:05.441444Z",
     "iopub.status.busy": "2023-09-09T07:15:05.439981Z",
     "iopub.status.idle": "2023-09-09T07:15:05.664418Z",
     "shell.execute_reply": "2023-09-09T07:15:05.663316Z"
    },
    "papermill": {
     "duration": 0.235863,
     "end_time": "2023-09-09T07:15:05.667184",
     "exception": false,
     "start_time": "2023-09-09T07:15:05.431321",
     "status": "completed"
    },
    "tags": []
   },
   "outputs": [
    {
     "data": {
      "text/html": [
       "<div>\n",
       "<style scoped>\n",
       "    .dataframe tbody tr th:only-of-type {\n",
       "        vertical-align: middle;\n",
       "    }\n",
       "\n",
       "    .dataframe tbody tr th {\n",
       "        vertical-align: top;\n",
       "    }\n",
       "\n",
       "    .dataframe thead th {\n",
       "        text-align: right;\n",
       "    }\n",
       "</style>\n",
       "<table border=\"1\" class=\"dataframe\">\n",
       "  <thead>\n",
       "    <tr style=\"text-align: right;\">\n",
       "      <th></th>\n",
       "      <th>image_id</th>\n",
       "      <th>x</th>\n",
       "      <th>y</th>\n",
       "      <th>w</th>\n",
       "      <th>h</th>\n",
       "      <th>x_center</th>\n",
       "      <th>y_center</th>\n",
       "      <th>classes</th>\n",
       "      <th>fold</th>\n",
       "    </tr>\n",
       "  </thead>\n",
       "  <tbody>\n",
       "    <tr>\n",
       "      <th>0</th>\n",
       "      <td>b6ab77fd7</td>\n",
       "      <td>834.0</td>\n",
       "      <td>222.0</td>\n",
       "      <td>56.0</td>\n",
       "      <td>36.0</td>\n",
       "      <td>862.0</td>\n",
       "      <td>240.0</td>\n",
       "      <td>0</td>\n",
       "      <td>0.0</td>\n",
       "    </tr>\n",
       "    <tr>\n",
       "      <th>1</th>\n",
       "      <td>b6ab77fd7</td>\n",
       "      <td>226.0</td>\n",
       "      <td>548.0</td>\n",
       "      <td>130.0</td>\n",
       "      <td>58.0</td>\n",
       "      <td>291.0</td>\n",
       "      <td>577.0</td>\n",
       "      <td>0</td>\n",
       "      <td>2.0</td>\n",
       "    </tr>\n",
       "    <tr>\n",
       "      <th>2</th>\n",
       "      <td>b6ab77fd7</td>\n",
       "      <td>377.0</td>\n",
       "      <td>504.0</td>\n",
       "      <td>74.0</td>\n",
       "      <td>160.0</td>\n",
       "      <td>414.0</td>\n",
       "      <td>584.0</td>\n",
       "      <td>0</td>\n",
       "      <td>3.0</td>\n",
       "    </tr>\n",
       "    <tr>\n",
       "      <th>3</th>\n",
       "      <td>b6ab77fd7</td>\n",
       "      <td>834.0</td>\n",
       "      <td>95.0</td>\n",
       "      <td>109.0</td>\n",
       "      <td>107.0</td>\n",
       "      <td>888.5</td>\n",
       "      <td>148.5</td>\n",
       "      <td>0</td>\n",
       "      <td>3.0</td>\n",
       "    </tr>\n",
       "    <tr>\n",
       "      <th>4</th>\n",
       "      <td>b6ab77fd7</td>\n",
       "      <td>26.0</td>\n",
       "      <td>144.0</td>\n",
       "      <td>124.0</td>\n",
       "      <td>117.0</td>\n",
       "      <td>88.0</td>\n",
       "      <td>202.5</td>\n",
       "      <td>0</td>\n",
       "      <td>4.0</td>\n",
       "    </tr>\n",
       "  </tbody>\n",
       "</table>\n",
       "</div>"
      ],
      "text/plain": [
       "    image_id      x      y      w      h  x_center  y_center  classes  fold\n",
       "0  b6ab77fd7  834.0  222.0   56.0   36.0     862.0     240.0        0   0.0\n",
       "1  b6ab77fd7  226.0  548.0  130.0   58.0     291.0     577.0        0   2.0\n",
       "2  b6ab77fd7  377.0  504.0   74.0  160.0     414.0     584.0        0   3.0\n",
       "3  b6ab77fd7  834.0   95.0  109.0  107.0     888.5     148.5        0   3.0\n",
       "4  b6ab77fd7   26.0  144.0  124.0  117.0      88.0     202.5        0   4.0"
      ]
     },
     "execution_count": 6,
     "metadata": {},
     "output_type": "execute_result"
    }
   ],
   "source": [
    "df = stratified_kfold_split_df(df)\n",
    "df.head()"
   ]
  },
  {
   "cell_type": "code",
   "execution_count": 7,
   "id": "df30fd70",
   "metadata": {
    "execution": {
     "iopub.execute_input": "2023-09-09T07:15:05.685609Z",
     "iopub.status.busy": "2023-09-09T07:15:05.685324Z",
     "iopub.status.idle": "2023-09-09T07:15:05.694047Z",
     "shell.execute_reply": "2023-09-09T07:15:05.693118Z"
    },
    "papermill": {
     "duration": 0.020316,
     "end_time": "2023-09-09T07:15:05.696281",
     "exception": false,
     "start_time": "2023-09-09T07:15:05.675965",
     "status": "completed"
    },
    "tags": []
   },
   "outputs": [],
   "source": [
    "def create_labels_and_copy_images(df: pd.DataFrame, fold: int, source: str = \"train\"):\n",
    "    val_index = set(df[df['fold'] == fold]['image_id'])\n",
    "\n",
    "    # 画像ごとにバウンディングボックスをループ処理\n",
    "    for name,mini in tqdm(df.groupby('image_id')):    \n",
    "        # ファイルの保存場所\n",
    "        if name in val_index:\n",
    "            path2save = 'valid/'\n",
    "        else:\n",
    "            path2save = 'train/'   \n",
    "        # ラベルのストレージパス\n",
    "        if not os.path.exists(f'convertor/fold{fold}/labels/' + path2save):\n",
    "            os.makedirs(f'convertor/fold{fold}/labels/' + path2save)\n",
    "        with open(f'convertor/fold{fold}/labels/' + path2save + name + \".txt\", 'w+') as f:\n",
    "            # Yolo形式の要件に従って座標を正規化\n",
    "            row = mini[['classes','x_center','y_center','w','h']].astype(float).values\n",
    "            row = row / 1024\n",
    "            row = row.astype(str)\n",
    "            for j in range(len(row)):\n",
    "                text = ' '.join(row[j])\n",
    "                f.write(text)\n",
    "                f.write(\"\\n\")\n",
    "        if not os.path.exists(f'convertor/fold{fold}/images/{path2save}'):\n",
    "            os.makedirs(f'convertor/fold{fold}/images/{path2save}')\n",
    "        # 画像の前処理は不要 => それらをバッチとしてコピー\n",
    "        shutil.copy(f\"../input/global-wheat-detection/{source}/{name}.jpg\", f'convertor/fold{fold}/images/{path2save}/{name}.jpg')"
   ]
  },
  {
   "cell_type": "code",
   "execution_count": 8,
   "id": "b5286570",
   "metadata": {
    "execution": {
     "iopub.execute_input": "2023-09-09T07:15:05.713822Z",
     "iopub.status.busy": "2023-09-09T07:15:05.713568Z",
     "iopub.status.idle": "2023-09-09T07:15:49.100129Z",
     "shell.execute_reply": "2023-09-09T07:15:49.097921Z"
    },
    "papermill": {
     "duration": 43.39768,
     "end_time": "2023-09-09T07:15:49.102248",
     "exception": false,
     "start_time": "2023-09-09T07:15:05.704568",
     "status": "completed"
    },
    "tags": []
   },
   "outputs": [
    {
     "name": "stderr",
     "output_type": "stream",
     "text": [
      "100%|██████████| 3373/3373 [00:43<00:00, 77.97it/s]\n"
     ]
    }
   ],
   "source": [
    "create_labels_and_copy_images(df, fold=2, source=\"train\")"
   ]
  },
  {
   "cell_type": "code",
   "execution_count": 9,
   "id": "d8b26832",
   "metadata": {
    "execution": {
     "iopub.execute_input": "2023-09-09T07:15:49.177598Z",
     "iopub.status.busy": "2023-09-09T07:15:49.177303Z",
     "iopub.status.idle": "2023-09-09T07:16:05.624827Z",
     "shell.execute_reply": "2023-09-09T07:16:05.623644Z"
    },
    "papermill": {
     "duration": 16.487873,
     "end_time": "2023-09-09T07:16:05.627395",
     "exception": false,
     "start_time": "2023-09-09T07:15:49.139522",
     "status": "completed"
    },
    "tags": []
   },
   "outputs": [
    {
     "name": "stdout",
     "output_type": "stream",
     "text": [
      "Cloning into 'yolov5'...\r\n",
      "remote: Enumerating objects: 15943, done.\u001b[K\r\n",
      "remote: Counting objects: 100% (63/63), done.\u001b[K\r\n",
      "remote: Compressing objects: 100% (47/47), done.\u001b[K\r\n",
      "remote: Total 15943 (delta 28), reused 39 (delta 16), pack-reused 15880\u001b[K\r\n",
      "Receiving objects: 100% (15943/15943), 14.61 MiB | 20.95 MiB/s, done.\r\n",
      "Resolving deltas: 100% (10927/10927), done.\r\n"
     ]
    }
   ],
   "source": [
    "!git clone https://github.com/ultralytics/yolov5  && cd yolov5 && pip install -r requirements.txt &> /dev/null"
   ]
  },
  {
   "cell_type": "code",
   "execution_count": 10,
   "id": "ac6a10bc",
   "metadata": {
    "execution": {
     "iopub.execute_input": "2023-09-09T07:16:05.708504Z",
     "iopub.status.busy": "2023-09-09T07:16:05.708180Z",
     "iopub.status.idle": "2023-09-09T07:16:05.818624Z",
     "shell.execute_reply": "2023-09-09T07:16:05.817420Z"
    },
    "papermill": {
     "duration": 0.152965,
     "end_time": "2023-09-09T07:16:05.820819",
     "exception": false,
     "start_time": "2023-09-09T07:16:05.667854",
     "status": "completed"
    },
    "tags": []
   },
   "outputs": [
    {
     "name": "stdout",
     "output_type": "stream",
     "text": [
      "Sat Sep  9 07:16:05 2023       \n",
      "+-----------------------------------------------------------------------------+\n",
      "| NVIDIA-SMI 470.161.03   Driver Version: 470.161.03   CUDA Version: 11.4     |\n",
      "|-------------------------------+----------------------+----------------------+\n",
      "| GPU  Name        Persistence-M| Bus-Id        Disp.A | Volatile Uncorr. ECC |\n",
      "| Fan  Temp  Perf  Pwr:Usage/Cap|         Memory-Usage | GPU-Util  Compute M. |\n",
      "|                               |                      |               MIG M. |\n",
      "|===============================+======================+======================|\n",
      "|   0  Tesla T4            Off  | 00000000:00:04.0 Off |                    0 |\n",
      "| N/A   35C    P8     9W /  70W |      0MiB / 15109MiB |      0%      Default |\n",
      "|                               |                      |                  N/A |\n",
      "+-------------------------------+----------------------+----------------------+\n",
      "|   1  Tesla T4            Off  | 00000000:00:05.0 Off |                    0 |\n",
      "| N/A   31C    P8     9W /  70W |      0MiB / 15109MiB |      0%      Default |\n",
      "|                               |                      |                  N/A |\n",
      "+-------------------------------+----------------------+----------------------+\n",
      "                                                                               \n",
      "+-----------------------------------------------------------------------------+\n",
      "| Processes:                                                                  |\n",
      "|  GPU   GI   CI        PID   Type   Process name                  GPU Memory |\n",
      "|        ID   ID                                                   Usage      |\n",
      "|=============================================================================|\n",
      "|  No running processes found                                                 |\n",
      "+-----------------------------------------------------------------------------+\n"
     ]
    }
   ],
   "source": [
    "# 割り当てられたGPUを確認\n",
    "gpu_info = !nvidia-smi\n",
    "gpu_info = '\\n'.join(gpu_info)\n",
    "if gpu_info.find('failed') >= 0:\n",
    "    print('Select the Runtime > \"Change runtime type\" menu to enable a GPU accelerator, ')\n",
    "    print('and then re-execute this cell.')\n",
    "    \n",
    "else:\n",
    "    print(gpu_info)"
   ]
  },
  {
   "cell_type": "markdown",
   "id": "8144e508",
   "metadata": {
    "papermill": {
     "duration": 0.040232,
     "end_time": "2023-09-09T07:16:05.900962",
     "exception": false,
     "start_time": "2023-09-09T07:16:05.860730",
     "status": "completed"
    },
    "tags": []
   },
   "source": [
    "# YAML設定ファイル"
   ]
  },
  {
   "cell_type": "code",
   "execution_count": 11,
   "id": "604b6f92",
   "metadata": {
    "execution": {
     "iopub.execute_input": "2023-09-09T07:16:05.979898Z",
     "iopub.status.busy": "2023-09-09T07:16:05.979602Z",
     "iopub.status.idle": "2023-09-09T07:16:05.988817Z",
     "shell.execute_reply": "2023-09-09T07:16:05.987977Z"
    },
    "papermill": {
     "duration": 0.050976,
     "end_time": "2023-09-09T07:16:05.990856",
     "exception": false,
     "start_time": "2023-09-09T07:16:05.939880",
     "status": "completed"
    },
    "tags": []
   },
   "outputs": [],
   "source": [
    "yaml_text = \"\"\"train: /kaggle/working/convertor/fold2/images/train/\n",
    "val: /kaggle/working/convertor/fold2/images/valid/\n",
    "\n",
    "nc: 1\n",
    "names: ['wheat']\"\"\""
   ]
  },
  {
   "cell_type": "code",
   "execution_count": 12,
   "id": "e0fbb0a9",
   "metadata": {
    "execution": {
     "iopub.execute_input": "2023-09-09T07:16:06.111508Z",
     "iopub.status.busy": "2023-09-09T07:16:06.110584Z",
     "iopub.status.idle": "2023-09-09T07:16:07.044990Z",
     "shell.execute_reply": "2023-09-09T07:16:07.043839Z"
    },
    "papermill": {
     "duration": 0.97704,
     "end_time": "2023-09-09T07:16:07.047329",
     "exception": false,
     "start_time": "2023-09-09T07:16:06.070289",
     "status": "completed"
    },
    "tags": []
   },
   "outputs": [
    {
     "name": "stdout",
     "output_type": "stream",
     "text": [
      "train: /kaggle/working/convertor/fold2/images/train/\r\n",
      "val: /kaggle/working/convertor/fold2/images/valid/\r\n",
      "\r\n",
      "nc: 1\r\n",
      "names: ['wheat']"
     ]
    }
   ],
   "source": [
    "with open(\"wheat.yaml\", 'w') as f:\n",
    "    f.write(yaml_text)\n",
    "%cat wheat.yaml"
   ]
  },
  {
   "cell_type": "markdown",
   "id": "f1f36fa1",
   "metadata": {
    "papermill": {
     "duration": 0.039847,
     "end_time": "2023-09-09T07:16:07.126891",
     "exception": false,
     "start_time": "2023-09-09T07:16:07.087044",
     "status": "completed"
    },
    "tags": []
   },
   "source": [
    "# Training"
   ]
  },
  {
   "cell_type": "code",
   "execution_count": 13,
   "id": "0d501dfe",
   "metadata": {
    "execution": {
     "iopub.execute_input": "2023-09-09T07:16:07.207510Z",
     "iopub.status.busy": "2023-09-09T07:16:07.206619Z",
     "iopub.status.idle": "2023-09-09T08:40:39.628800Z",
     "shell.execute_reply": "2023-09-09T08:40:39.627584Z"
    },
    "papermill": {
     "duration": 5072.465289,
     "end_time": "2023-09-09T08:40:39.631350",
     "exception": false,
     "start_time": "2023-09-09T07:16:07.166061",
     "status": "completed"
    },
    "tags": []
   },
   "outputs": [
    {
     "name": "stdout",
     "output_type": "stream",
     "text": [
      "\u001b[34m\u001b[1mwandb\u001b[0m: WARNING ⚠️ wandb is deprecated and will be removed in a future release. See supported integrations at https://github.com/ultralytics/yolov5#integrations.\r\n",
      "\u001b[34m\u001b[1mwandb\u001b[0m: (1) Create a W&B account\r\n",
      "\u001b[34m\u001b[1mwandb\u001b[0m: (2) Use an existing W&B account\r\n",
      "\u001b[34m\u001b[1mwandb\u001b[0m: (3) Don't visualize my results\r\n",
      "\u001b[34m\u001b[1mwandb\u001b[0m: Enter your choice: (30 second timeout) \r\n",
      "\u001b[34m\u001b[1mwandb\u001b[0m: W&B disabled due to login timeout.\r\n",
      "\u001b[34m\u001b[1mtrain: \u001b[0mweights=yolov5/yolov5s.pt, cfg=./yolov5/models/yolov5s.yaml, data=wheat.yaml, hyp=yolov5/data/hyps/hyp.scratch-low.yaml, epochs=50, batch_size=2, imgsz=512, rect=False, resume=False, nosave=False, noval=False, noautoanchor=False, noplots=False, evolve=None, bucket=, cache=ram, image_weights=False, device=, multi_scale=False, single_cls=False, optimizer=SGD, sync_bn=False, workers=2, project=yolov5/runs/train, name=yolov5x_fold2, exist_ok=False, quad=False, cos_lr=False, label_smoothing=0.0, patience=100, freeze=[0], save_period=-1, seed=0, local_rank=-1, entity=None, upload_dataset=False, bbox_interval=-1, artifact_alias=latest\r\n",
      "\u001b[34m\u001b[1mgithub: \u001b[0mup to date with https://github.com/ultralytics/yolov5 ✅\r\n",
      "YOLOv5 🚀 v7.0-215-ga6659d0 Python-3.10.12 torch-2.0.0 CUDA:0 (Tesla T4, 15110MiB)\r\n",
      "\r\n",
      "\u001b[34m\u001b[1mhyperparameters: \u001b[0mlr0=0.01, lrf=0.01, momentum=0.937, weight_decay=0.0005, warmup_epochs=3.0, warmup_momentum=0.8, warmup_bias_lr=0.1, box=0.05, cls=0.5, cls_pw=1.0, obj=1.0, obj_pw=1.0, iou_t=0.2, anchor_t=4.0, fl_gamma=0.0, hsv_h=0.015, hsv_s=0.7, hsv_v=0.4, degrees=0.0, translate=0.1, scale=0.5, shear=0.0, perspective=0.0, flipud=0.0, fliplr=0.5, mosaic=1.0, mixup=0.0, copy_paste=0.0\r\n",
      "\u001b[34m\u001b[1mComet: \u001b[0mrun 'pip install comet_ml' to automatically track and visualize YOLOv5 🚀 runs in Comet\r\n",
      "\u001b[34m\u001b[1mTensorBoard: \u001b[0mStart with 'tensorboard --logdir yolov5/runs/train', view at http://localhost:6006/\r\n",
      "Downloading https://ultralytics.com/assets/Arial.ttf to /root/.config/Ultralytics/Arial.ttf...\r\n",
      "100%|████████████████████████████████████████| 755k/755k [00:00<00:00, 14.5MB/s]\r\n",
      "Downloading https://github.com/ultralytics/yolov5/releases/download/v7.0/yolov5s.pt to yolov5/yolov5s.pt...\r\n",
      "100%|███████████████████████████████████████| 14.1M/14.1M [00:00<00:00, 126MB/s]\r\n",
      "\r\n",
      "Overriding model.yaml nc=80 with nc=1\r\n",
      "\r\n",
      "                 from  n    params  module                                  arguments                     \r\n",
      "  0                -1  1      3520  models.common.Conv                      [3, 32, 6, 2, 2]              \r\n",
      "  1                -1  1     18560  models.common.Conv                      [32, 64, 3, 2]                \r\n",
      "  2                -1  1     18816  models.common.C3                        [64, 64, 1]                   \r\n",
      "  3                -1  1     73984  models.common.Conv                      [64, 128, 3, 2]               \r\n",
      "  4                -1  2    115712  models.common.C3                        [128, 128, 2]                 \r\n",
      "  5                -1  1    295424  models.common.Conv                      [128, 256, 3, 2]              \r\n",
      "  6                -1  3    625152  models.common.C3                        [256, 256, 3]                 \r\n",
      "  7                -1  1   1180672  models.common.Conv                      [256, 512, 3, 2]              \r\n",
      "  8                -1  1   1182720  models.common.C3                        [512, 512, 1]                 \r\n",
      "  9                -1  1    656896  models.common.SPPF                      [512, 512, 5]                 \r\n",
      " 10                -1  1    131584  models.common.Conv                      [512, 256, 1, 1]              \r\n",
      " 11                -1  1         0  torch.nn.modules.upsampling.Upsample    [None, 2, 'nearest']          \r\n",
      " 12           [-1, 6]  1         0  models.common.Concat                    [1]                           \r\n",
      " 13                -1  1    361984  models.common.C3                        [512, 256, 1, False]          \r\n",
      " 14                -1  1     33024  models.common.Conv                      [256, 128, 1, 1]              \r\n",
      " 15                -1  1         0  torch.nn.modules.upsampling.Upsample    [None, 2, 'nearest']          \r\n",
      " 16           [-1, 4]  1         0  models.common.Concat                    [1]                           \r\n",
      " 17                -1  1     90880  models.common.C3                        [256, 128, 1, False]          \r\n",
      " 18                -1  1    147712  models.common.Conv                      [128, 128, 3, 2]              \r\n",
      " 19          [-1, 14]  1         0  models.common.Concat                    [1]                           \r\n",
      " 20                -1  1    296448  models.common.C3                        [256, 256, 1, False]          \r\n",
      " 21                -1  1    590336  models.common.Conv                      [256, 256, 3, 2]              \r\n",
      " 22          [-1, 10]  1         0  models.common.Concat                    [1]                           \r\n",
      " 23                -1  1   1182720  models.common.C3                        [512, 512, 1, False]          \r\n",
      " 24      [17, 20, 23]  1     16182  models.yolo.Detect                      [1, [[10, 13, 16, 30, 33, 23], [30, 61, 62, 45, 59, 119], [116, 90, 156, 198, 373, 326]], [128, 256, 512]]\r\n",
      "YOLOv5s summary: 214 layers, 7022326 parameters, 7022326 gradients, 15.9 GFLOPs\r\n",
      "\r\n",
      "Transferred 342/349 items from yolov5/yolov5s.pt\r\n",
      "\u001b[34m\u001b[1mAMP: \u001b[0mchecks passed ✅\r\n",
      "\u001b[34m\u001b[1moptimizer:\u001b[0m SGD(lr=0.01) with parameter groups 57 weight(decay=0.0), 60 weight(decay=0.0005), 60 bias\r\n",
      "WARNING ⚠️ DP not recommended, use torch.distributed.run for best DDP Multi-GPU results.\r\n",
      "See Multi-GPU Tutorial at https://docs.ultralytics.com/yolov5/tutorials/multi_gpu_training to get started.\r\n",
      "\u001b[34m\u001b[1malbumentations: \u001b[0mBlur(p=0.01, blur_limit=(3, 7)), MedianBlur(p=0.01, blur_limit=(3, 7)), ToGray(p=0.01), CLAHE(p=0.01, clip_limit=(1, 4.0), tile_grid_size=(8, 8))\r\n",
      "\u001b[34m\u001b[1mtrain: \u001b[0mScanning /kaggle/working/convertor/fold2/labels/train... 48 images, 0 bac\u001b[0m\r\n",
      "\u001b[34m\u001b[1mtrain: \u001b[0mNew cache created: /kaggle/working/convertor/fold2/labels/train.cache\r\n",
      "\u001b[34m\u001b[1mtrain: \u001b[0mCaching images (0.0GB ram): 100%|██████████| 48/48 [00:00<00:00, 78.72it/\u001b[0m\r\n",
      "\u001b[34m\u001b[1mval: \u001b[0mScanning /kaggle/working/convertor/fold2/labels/valid... 3325 images, 0 bac\u001b[0m\r\n",
      "\u001b[34m\u001b[1mval: \u001b[0mNew cache created: /kaggle/working/convertor/fold2/labels/valid.cache\r\n",
      "\u001b[34m\u001b[1mval: \u001b[0mCaching images (2.4GB ram): 100%|██████████| 3325/3325 [00:45<00:00, 73.65i\u001b[0m\r\n",
      "\r\n",
      "\u001b[34m\u001b[1mAutoAnchor: \u001b[0m5.99 anchors/target, 0.997 Best Possible Recall (BPR). Current anchors are a good fit to dataset ✅\r\n",
      "Plotting labels to yolov5/runs/train/yolov5x_fold2/labels.jpg... \r\n",
      "Image sizes 512 train, 512 val\r\n",
      "Using 1 dataloader workers\r\n",
      "Logging results to \u001b[1myolov5/runs/train/yolov5x_fold2\u001b[0m\r\n",
      "Starting training for 50 epochs...\r\n",
      "\r\n",
      "      Epoch    GPU_mem   box_loss   obj_loss   cls_loss  Instances       Size\r\n",
      "       0/49     0.466G     0.1201    0.07523          0         59        512: 1\r\n",
      "                 Class     Images  Instances          P          R      mAP50   \r\n",
      "                   all       3325     147430    0.00594     0.0402    0.00318   0.000758\r\n",
      "\r\n",
      "      Epoch    GPU_mem   box_loss   obj_loss   cls_loss  Instances       Size\r\n",
      "       1/49     0.466G     0.1171    0.04904          0         18        512: 1\r\n",
      "                 Class     Images  Instances          P          R      mAP50   \r\n",
      "                   all       3325     147430    0.00883     0.0597    0.00469    0.00109\r\n",
      "\r\n",
      "      Epoch    GPU_mem   box_loss   obj_loss   cls_loss  Instances       Size\r\n",
      "       2/49     0.466G      0.114    0.06204          0         12        512: 1\r\n",
      "                 Class     Images  Instances          P          R      mAP50   \r\n",
      "                   all       3325     147430     0.0115     0.0776     0.0062    0.00141\r\n",
      "\r\n",
      "      Epoch    GPU_mem   box_loss   obj_loss   cls_loss  Instances       Size\r\n",
      "       3/49     0.466G     0.1127    0.07034          0         10        512: 1\r\n",
      "                 Class     Images  Instances          P          R      mAP50   \r\n",
      "                   all       3325     147430     0.0138     0.0933    0.00914     0.0019\r\n",
      "\r\n",
      "      Epoch    GPU_mem   box_loss   obj_loss   cls_loss  Instances       Size\r\n",
      "       4/49     0.466G     0.1107    0.07346          0         32        512: 1\r\n",
      "                 Class     Images  Instances          P          R      mAP50   \r\n",
      "                   all       3325     147430     0.0166      0.112    0.00926    0.00216\r\n",
      "\r\n",
      "      Epoch    GPU_mem   box_loss   obj_loss   cls_loss  Instances       Size\r\n",
      "       5/49     0.466G      0.106    0.06285          0          1        512: 1\r\n",
      "                 Class     Images  Instances          P          R      mAP50   \r\n",
      "                   all       3325     147430     0.0182      0.123     0.0105    0.00247\r\n",
      "\r\n",
      "      Epoch    GPU_mem   box_loss   obj_loss   cls_loss  Instances       Size\r\n",
      "       6/49     0.466G     0.1055     0.0733          0         30        512: 1\r\n",
      "                 Class     Images  Instances          P          R      mAP50   \r\n",
      "                   all       3325     147430     0.0182      0.123     0.0105    0.00247\r\n",
      "\r\n",
      "      Epoch    GPU_mem   box_loss   obj_loss   cls_loss  Instances       Size\r\n",
      "       7/49     0.466G    0.09792    0.06648          0         12        512: 1\r\n",
      "                 Class     Images  Instances          P          R      mAP50   \r\n",
      "                   all       3325     147430       0.02      0.135     0.0119    0.00292\r\n",
      "\r\n",
      "      Epoch    GPU_mem   box_loss   obj_loss   cls_loss  Instances       Size\r\n",
      "       8/49     0.466G     0.1043    0.07051          0         20        512: 1\r\n",
      "                 Class     Images  Instances          P          R      mAP50   \r\n",
      "                   all       3325     147430     0.0269      0.182     0.0165    0.00382\r\n",
      "\r\n",
      "      Epoch    GPU_mem   box_loss   obj_loss   cls_loss  Instances       Size\r\n",
      "       9/49     0.466G      0.105    0.07601          0         15        512: 1\r\n",
      "                 Class     Images  Instances          P          R      mAP50   \r\n",
      "                   all       3325     147430     0.0336      0.227     0.0219    0.00523\r\n",
      "\r\n",
      "      Epoch    GPU_mem   box_loss   obj_loss   cls_loss  Instances       Size\r\n",
      "      10/49     0.466G     0.1033    0.08159          0         17        512: 1\r\n",
      "                 Class     Images  Instances          P          R      mAP50   \r\n",
      "                   all       3325     147430     0.0336      0.227     0.0219    0.00523\r\n",
      "\r\n",
      "      Epoch    GPU_mem   box_loss   obj_loss   cls_loss  Instances       Size\r\n",
      "      11/49     0.466G     0.1021    0.07892          0         35        512: 1\r\n",
      "                 Class     Images  Instances          P          R      mAP50   \r\n",
      "                   all       3325     147430     0.0365      0.247     0.0236    0.00566\r\n",
      "\r\n",
      "      Epoch    GPU_mem   box_loss   obj_loss   cls_loss  Instances       Size\r\n",
      "      12/49     0.466G    0.09932    0.07493          0         10        512: 1\r\n",
      "                 Class     Images  Instances          P          R      mAP50   \r\n",
      "                   all       3325     147430     0.0401      0.271     0.0273     0.0068\r\n",
      "\r\n",
      "      Epoch    GPU_mem   box_loss   obj_loss   cls_loss  Instances       Size\r\n",
      "      13/49     0.466G    0.09887    0.08222          0         20        512: 1\r\n",
      "                 Class     Images  Instances          P          R      mAP50   \r\n",
      "                   all       3325     147430      0.046      0.311     0.0328    0.00836\r\n",
      "\r\n",
      "      Epoch    GPU_mem   box_loss   obj_loss   cls_loss  Instances       Size\r\n",
      "      14/49     0.466G    0.09632     0.0701          0         22        512: 1\r\n",
      "                 Class     Images  Instances          P          R      mAP50   \r\n",
      "                   all       3325     147430      0.046      0.311     0.0328    0.00836\r\n",
      "\r\n",
      "      Epoch    GPU_mem   box_loss   obj_loss   cls_loss  Instances       Size\r\n",
      "      15/49     0.466G     0.0976    0.07765          0         30        512: 1\r\n",
      "                 Class     Images  Instances          P          R      mAP50   \r\n",
      "                   all       3325     147430     0.0511      0.346     0.0359     0.0093\r\n",
      "\r\n",
      "      Epoch    GPU_mem   box_loss   obj_loss   cls_loss  Instances       Size\r\n",
      "      16/49     0.466G    0.09469     0.0846          0         14        512: 1\r\n",
      "                 Class     Images  Instances          P          R      mAP50   \r\n",
      "                   all       3325     147430     0.0562       0.38     0.0413     0.0106\r\n",
      "\r\n",
      "      Epoch    GPU_mem   box_loss   obj_loss   cls_loss  Instances       Size\r\n",
      "      17/49     0.466G    0.09693     0.0847          0         24        512: 1\r\n",
      "                 Class     Images  Instances          P          R      mAP50   \r\n",
      "                   all       3325     147430     0.0626      0.412      0.054     0.0137\r\n",
      "\r\n",
      "      Epoch    GPU_mem   box_loss   obj_loss   cls_loss  Instances       Size\r\n",
      "      18/49     0.466G    0.09435    0.06402          0         20        512: 1\r\n",
      "                 Class     Images  Instances          P          R      mAP50   \r\n",
      "                   all       3325     147430     0.0626      0.412      0.054     0.0137\r\n",
      "\r\n",
      "      Epoch    GPU_mem   box_loss   obj_loss   cls_loss  Instances       Size\r\n",
      "      19/49     0.466G     0.0968    0.08306          0         26        512: 1\r\n",
      "                 Class     Images  Instances          P          R      mAP50   \r\n",
      "                   all       3325     147430     0.0754      0.441     0.0872     0.0211\r\n",
      "\r\n",
      "      Epoch    GPU_mem   box_loss   obj_loss   cls_loss  Instances       Size\r\n",
      "      20/49     0.466G    0.09427    0.07934          0         24        512: 1\r\n",
      "                 Class     Images  Instances          P          R      mAP50   \r\n",
      "                   all       3325     147430     0.0933      0.467      0.119     0.0317\r\n",
      "\r\n",
      "      Epoch    GPU_mem   box_loss   obj_loss   cls_loss  Instances       Size\r\n",
      "      21/49     0.466G    0.09382    0.07422          0         15        512: 1\r\n",
      "                 Class     Images  Instances          P          R      mAP50   \r\n",
      "                   all       3325     147430     0.0936      0.497      0.097     0.0247\r\n",
      "\r\n",
      "      Epoch    GPU_mem   box_loss   obj_loss   cls_loss  Instances       Size\r\n",
      "      22/49     0.466G    0.09446    0.07856          0         32        512: 1\r\n",
      "                 Class     Images  Instances          P          R      mAP50   \r\n",
      "                   all       3325     147430     0.0936      0.497      0.097     0.0247\r\n",
      "\r\n",
      "      Epoch    GPU_mem   box_loss   obj_loss   cls_loss  Instances       Size\r\n",
      "      23/49     0.466G    0.09003    0.06275          0          4        512: 1\r\n",
      "                 Class     Images  Instances          P          R      mAP50   \r\n",
      "                   all       3325     147430      0.167      0.391      0.157     0.0413\r\n",
      "\r\n",
      "      Epoch    GPU_mem   box_loss   obj_loss   cls_loss  Instances       Size\r\n",
      "      24/49     0.466G    0.09063    0.06064          0          2        512: 1\r\n",
      "                 Class     Images  Instances          P          R      mAP50   \r\n",
      "                   all       3325     147430      0.199      0.375      0.177     0.0463\r\n",
      "\r\n",
      "      Epoch    GPU_mem   box_loss   obj_loss   cls_loss  Instances       Size\r\n",
      "      25/49     0.466G    0.09134    0.06392          0         26        512: 1\r\n",
      "                 Class     Images  Instances          P          R      mAP50   \r\n",
      "                   all       3325     147430      0.213      0.326      0.159     0.0412\r\n",
      "\r\n",
      "      Epoch    GPU_mem   box_loss   obj_loss   cls_loss  Instances       Size\r\n",
      "      26/49     0.466G    0.09162    0.06032          0         21        512: 1\r\n",
      "                 Class     Images  Instances          P          R      mAP50   \r\n",
      "                   all       3325     147430      0.213      0.326      0.159     0.0412\r\n",
      "\r\n",
      "      Epoch    GPU_mem   box_loss   obj_loss   cls_loss  Instances       Size\r\n",
      "      27/49     0.466G    0.08926    0.07898          0         14        512: 1\r\n",
      "                 Class     Images  Instances          P          R      mAP50   \r\n",
      "                   all       3325     147430      0.238      0.311       0.17     0.0458\r\n",
      "\r\n",
      "      Epoch    GPU_mem   box_loss   obj_loss   cls_loss  Instances       Size\r\n",
      "      28/49     0.466G    0.09101     0.0662          0         24        512: 1\r\n",
      "                 Class     Images  Instances          P          R      mAP50   \r\n",
      "                   all       3325     147430      0.262      0.318      0.191     0.0503\r\n",
      "\r\n",
      "      Epoch    GPU_mem   box_loss   obj_loss   cls_loss  Instances       Size\r\n",
      "      29/49     0.466G    0.08836    0.06453          0         18        512: 1\r\n",
      "                 Class     Images  Instances          P          R      mAP50   \r\n",
      "                   all       3325     147430      0.293      0.362       0.23     0.0628\r\n",
      "\r\n",
      "      Epoch    GPU_mem   box_loss   obj_loss   cls_loss  Instances       Size\r\n",
      "      30/49     0.466G    0.09059    0.07256          0         34        512: 1\r\n",
      "                 Class     Images  Instances          P          R      mAP50   \r\n",
      "                   all       3325     147430      0.293      0.362       0.23     0.0628\r\n",
      "\r\n",
      "      Epoch    GPU_mem   box_loss   obj_loss   cls_loss  Instances       Size\r\n",
      "      31/49     0.466G     0.0859    0.06337          0         18        512: 1\r\n",
      "                 Class     Images  Instances          P          R      mAP50   \r\n",
      "                   all       3325     147430       0.29      0.347      0.219     0.0598\r\n",
      "\r\n",
      "      Epoch    GPU_mem   box_loss   obj_loss   cls_loss  Instances       Size\r\n",
      "      32/49     0.466G    0.08531    0.07133          0         15        512: 1\r\n",
      "                 Class     Images  Instances          P          R      mAP50   \r\n",
      "                   all       3325     147430      0.266      0.313      0.199     0.0537\r\n",
      "\r\n",
      "      Epoch    GPU_mem   box_loss   obj_loss   cls_loss  Instances       Size\r\n",
      "      33/49     0.466G    0.08137    0.05644          0          3        512: 1\r\n",
      "                 Class     Images  Instances          P          R      mAP50   \r\n",
      "                   all       3325     147430      0.244      0.344      0.209     0.0579\r\n",
      "\r\n",
      "      Epoch    GPU_mem   box_loss   obj_loss   cls_loss  Instances       Size\r\n",
      "      34/49     0.466G    0.08834    0.06042          0         24        512: 1\r\n",
      "                 Class     Images  Instances          P          R      mAP50   \r\n",
      "                   all       3325     147430      0.244      0.344      0.209     0.0579\r\n",
      "\r\n",
      "      Epoch    GPU_mem   box_loss   obj_loss   cls_loss  Instances       Size\r\n",
      "      35/49     0.466G    0.08731    0.06451          0         18        512: 1\r\n",
      "                 Class     Images  Instances          P          R      mAP50   \r\n",
      "                   all       3325     147430      0.225      0.368      0.197     0.0546\r\n",
      "\r\n",
      "      Epoch    GPU_mem   box_loss   obj_loss   cls_loss  Instances       Size\r\n",
      "      36/49     0.466G    0.08823    0.07862          0         16        512: 1\r\n",
      "                 Class     Images  Instances          P          R      mAP50   \r\n",
      "                   all       3325     147430      0.247      0.375      0.213     0.0593\r\n",
      "\r\n",
      "      Epoch    GPU_mem   box_loss   obj_loss   cls_loss  Instances       Size\r\n",
      "      37/49     0.466G    0.08336    0.06576          0         10        512: 1\r\n",
      "                 Class     Images  Instances          P          R      mAP50   \r\n",
      "                   all       3325     147430      0.241      0.377      0.203     0.0559\r\n",
      "\r\n",
      "      Epoch    GPU_mem   box_loss   obj_loss   cls_loss  Instances       Size\r\n",
      "      38/49     0.466G    0.08861    0.06642          0         16        512: 1\r\n",
      "                 Class     Images  Instances          P          R      mAP50   \r\n",
      "                   all       3325     147430      0.241      0.377      0.203     0.0559\r\n",
      "\r\n",
      "      Epoch    GPU_mem   box_loss   obj_loss   cls_loss  Instances       Size\r\n",
      "      39/49     0.466G    0.08292    0.05911          0         20        512: 1\r\n",
      "                 Class     Images  Instances          P          R      mAP50   \r\n",
      "                   all       3325     147430       0.26      0.388      0.223     0.0631\r\n",
      "\r\n",
      "      Epoch    GPU_mem   box_loss   obj_loss   cls_loss  Instances       Size\r\n",
      "      40/49     0.466G    0.08594    0.06497          0         13        512: 1\r\n",
      "                 Class     Images  Instances          P          R      mAP50   \r\n",
      "                   all       3325     147430      0.214      0.377      0.181      0.048\r\n",
      "\r\n",
      "      Epoch    GPU_mem   box_loss   obj_loss   cls_loss  Instances       Size\r\n",
      "      41/49     0.466G    0.08482    0.06606          0          5        512: 1\r\n",
      "                 Class     Images  Instances          P          R      mAP50   \r\n",
      "                   all       3325     147430      0.253      0.382      0.217     0.0642\r\n",
      "\r\n",
      "      Epoch    GPU_mem   box_loss   obj_loss   cls_loss  Instances       Size\r\n",
      "      42/49     0.466G    0.08272    0.06564          0         17        512: 1\r\n",
      "                 Class     Images  Instances          P          R      mAP50   \r\n",
      "                   all       3325     147430      0.253      0.382      0.217     0.0642\r\n",
      "\r\n",
      "      Epoch    GPU_mem   box_loss   obj_loss   cls_loss  Instances       Size\r\n",
      "      43/49     0.466G     0.0817     0.0755          0         46        512: 1\r\n",
      "                 Class     Images  Instances          P          R      mAP50   \r\n",
      "                   all       3325     147430      0.259      0.387      0.223     0.0659\r\n",
      "\r\n",
      "      Epoch    GPU_mem   box_loss   obj_loss   cls_loss  Instances       Size\r\n",
      "      44/49     0.466G    0.07907    0.05452          0         20        512: 1\r\n",
      "                 Class     Images  Instances          P          R      mAP50   \r\n",
      "                   all       3325     147430      0.305      0.407      0.265      0.078\r\n",
      "\r\n",
      "      Epoch    GPU_mem   box_loss   obj_loss   cls_loss  Instances       Size\r\n",
      "      45/49     0.466G      0.083    0.05722          0          8        512: 1\r\n",
      "                 Class     Images  Instances          P          R      mAP50   \r\n",
      "                   all       3325     147430      0.228      0.384      0.194     0.0515\r\n",
      "\r\n",
      "      Epoch    GPU_mem   box_loss   obj_loss   cls_loss  Instances       Size\r\n",
      "      46/49     0.466G    0.08077    0.05618          0         23        512: 1\r\n",
      "                 Class     Images  Instances          P          R      mAP50   \r\n",
      "                   all       3325     147430      0.228      0.384      0.194     0.0515\r\n",
      "\r\n",
      "      Epoch    GPU_mem   box_loss   obj_loss   cls_loss  Instances       Size\r\n",
      "      47/49     0.466G     0.0817    0.05575          0         23        512: 1\r\n",
      "                 Class     Images  Instances          P          R      mAP50   \r\n",
      "                   all       3325     147430      0.233      0.396      0.198     0.0522\r\n",
      "\r\n",
      "      Epoch    GPU_mem   box_loss   obj_loss   cls_loss  Instances       Size\r\n",
      "      48/49     0.466G    0.08222    0.06908          0         27        512: 1\r\n",
      "                 Class     Images  Instances          P          R      mAP50   \r\n",
      "                   all       3325     147430      0.286      0.416      0.245     0.0671\r\n",
      "\r\n",
      "      Epoch    GPU_mem   box_loss   obj_loss   cls_loss  Instances       Size\r\n",
      "      49/49     0.466G    0.08183    0.05143          0         28        512: 1\r\n",
      "                 Class     Images  Instances          P          R      mAP50   \r\n",
      "                   all       3325     147430      0.319      0.437       0.28     0.0807\r\n",
      "\r\n",
      "50 epochs completed in 1.345 hours.\r\n",
      "Optimizer stripped from yolov5/runs/train/yolov5x_fold2/weights/last.pt, 14.4MB\r\n",
      "Optimizer stripped from yolov5/runs/train/yolov5x_fold2/weights/best.pt, 14.4MB\r\n",
      "\r\n",
      "Validating yolov5/runs/train/yolov5x_fold2/weights/best.pt...\r\n",
      "Fusing layers... \r\n",
      "YOLOv5s summary: 157 layers, 7012822 parameters, 0 gradients, 15.8 GFLOPs\r\n",
      "                 Class     Images  Instances          P          R      mAP50   \r\n",
      "                   all       3325     147430      0.319      0.437       0.28     0.0808\r\n",
      "Results saved to \u001b[1myolov5/runs/train/yolov5x_fold2\u001b[0m\r\n"
     ]
    }
   ],
   "source": [
    "!python ./yolov5/train.py --img 512 --batch 2 --epochs 50 --workers 2 --data wheat.yaml --cfg \"./yolov5/models/yolov5s.yaml\" --name yolov5x_fold2 --cache"
   ]
  },
  {
   "cell_type": "code",
   "execution_count": 14,
   "id": "dabd1415",
   "metadata": {
    "execution": {
     "iopub.execute_input": "2023-09-09T08:40:44.531049Z",
     "iopub.status.busy": "2023-09-09T08:40:44.530607Z",
     "iopub.status.idle": "2023-09-09T08:40:45.560618Z",
     "shell.execute_reply": "2023-09-09T08:40:45.559533Z"
    },
    "papermill": {
     "duration": 3.524319,
     "end_time": "2023-09-09T08:40:45.563035",
     "exception": false,
     "start_time": "2023-09-09T08:40:42.038716",
     "status": "completed"
    },
    "tags": []
   },
   "outputs": [
    {
     "name": "stdout",
     "output_type": "stream",
     "text": [
      "ls: cannot access './yolov5/runs/train/yolov5x_fold0/weights/': No such file or directory\r\n"
     ]
    }
   ],
   "source": [
    "!ls ./yolov5/runs/train/yolov5x_fold0/weights/ -lh"
   ]
  },
  {
   "cell_type": "markdown",
   "id": "79a13349",
   "metadata": {
    "papermill": {
     "duration": 2.432436,
     "end_time": "2023-09-09T08:40:50.866510",
     "exception": false,
     "start_time": "2023-09-09T08:40:48.434074",
     "status": "completed"
    },
    "tags": []
   },
   "source": [
    "# Prediction"
   ]
  },
  {
   "cell_type": "code",
   "execution_count": 15,
   "id": "8cdcc032",
   "metadata": {
    "execution": {
     "iopub.execute_input": "2023-09-09T08:40:55.753127Z",
     "iopub.status.busy": "2023-09-09T08:40:55.752725Z",
     "iopub.status.idle": "2023-09-09T08:40:56.700921Z",
     "shell.execute_reply": "2023-09-09T08:40:56.699764Z"
    },
    "papermill": {
     "duration": 3.355484,
     "end_time": "2023-09-09T08:40:56.703302",
     "exception": false,
     "start_time": "2023-09-09T08:40:53.347818",
     "status": "completed"
    },
    "tags": []
   },
   "outputs": [
    {
     "name": "stdout",
     "output_type": "stream",
     "text": [
      "2fd875eaa.jpg  51b3e36ab.jpg  53f253011.jpg  aac893a91.jpg  cc3532ff6.jpg\r\n",
      "348a992bb.jpg  51f1be19e.jpg  796707dd7.jpg  cb8d261a3.jpg  f5a1f0358.jpg\r\n"
     ]
    }
   ],
   "source": [
    "!ls /kaggle/input/global-wheat-detection/test"
   ]
  },
  {
   "cell_type": "code",
   "execution_count": 16,
   "id": "d5efb99d",
   "metadata": {
    "execution": {
     "iopub.execute_input": "2023-09-09T08:41:01.538446Z",
     "iopub.status.busy": "2023-09-09T08:41:01.538078Z",
     "iopub.status.idle": "2023-09-09T08:41:09.845586Z",
     "shell.execute_reply": "2023-09-09T08:41:09.844379Z"
    },
    "papermill": {
     "duration": 10.651231,
     "end_time": "2023-09-09T08:41:09.848067",
     "exception": false,
     "start_time": "2023-09-09T08:40:59.196836",
     "status": "completed"
    },
    "tags": []
   },
   "outputs": [
    {
     "name": "stdout",
     "output_type": "stream",
     "text": [
      "\u001b[34m\u001b[1mdetect: \u001b[0mweights=['./yolov5/runs/train/yolov5x_fold0/weights/best.pt'], source=/kaggle/input/global-wheat-detection/test, data=yolov5/data/coco128.yaml, imgsz=[512, 512], conf_thres=0.1, iou_thres=0.45, max_det=1000, device=, view_img=False, save_txt=True, save_csv=False, save_conf=True, save_crop=False, nosave=False, classes=None, agnostic_nms=False, augment=False, visualize=False, update=False, project=yolov5/runs/detect, name=exp, exist_ok=True, line_thickness=3, hide_labels=False, hide_conf=False, half=False, dnn=False, vid_stride=1\r\n",
      "YOLOv5 🚀 v7.0-215-ga6659d0 Python-3.10.12 torch-2.0.0 CUDA:0 (Tesla T4, 15110MiB)\r\n",
      "\r\n",
      "Traceback (most recent call last):\r\n",
      "  File \"/kaggle/working/./yolov5/detect.py\", line 285, in <module>\r\n",
      "    main(opt)\r\n",
      "  File \"/kaggle/working/./yolov5/detect.py\", line 280, in main\r\n",
      "    run(**vars(opt))\r\n",
      "  File \"/opt/conda/lib/python3.10/site-packages/torch/utils/_contextlib.py\", line 115, in decorate_context\r\n",
      "    return func(*args, **kwargs)\r\n",
      "  File \"/kaggle/working/./yolov5/detect.py\", line 101, in run\r\n",
      "    model = DetectMultiBackend(weights, device=device, dnn=dnn, data=data, fp16=half)\r\n",
      "  File \"/kaggle/working/yolov5/models/common.py\", line 356, in __init__\r\n",
      "    model = attempt_load(weights if isinstance(weights, list) else w, device=device, inplace=True, fuse=fuse)\r\n",
      "  File \"/kaggle/working/yolov5/models/experimental.py\", line 79, in attempt_load\r\n",
      "    ckpt = torch.load(attempt_download(w), map_location='cpu')  # load\r\n",
      "  File \"/opt/conda/lib/python3.10/site-packages/torch/serialization.py\", line 791, in load\r\n",
      "    with _open_file_like(f, 'rb') as opened_file:\r\n",
      "  File \"/opt/conda/lib/python3.10/site-packages/torch/serialization.py\", line 271, in _open_file_like\r\n",
      "    return _open_file(name_or_buffer, mode)\r\n",
      "  File \"/opt/conda/lib/python3.10/site-packages/torch/serialization.py\", line 252, in __init__\r\n",
      "    super().__init__(open(name, mode))\r\n",
      "FileNotFoundError: [Errno 2] No such file or directory: 'yolov5/runs/train/yolov5x_fold0/weights/best.pt'\r\n"
     ]
    }
   ],
   "source": [
    "!python ./yolov5/detect.py --weights ./yolov5/runs/train/yolov5x_fold0/weights/best.pt --img 512 --conf 0.1 --source /kaggle/input/global-wheat-detection/test --save-txt --save-conf --exist-ok"
   ]
  },
  {
   "cell_type": "code",
   "execution_count": 17,
   "id": "98115341",
   "metadata": {
    "execution": {
     "iopub.execute_input": "2023-09-09T08:41:14.725274Z",
     "iopub.status.busy": "2023-09-09T08:41:14.724326Z",
     "iopub.status.idle": "2023-09-09T08:41:15.717495Z",
     "shell.execute_reply": "2023-09-09T08:41:15.716142Z"
    },
    "papermill": {
     "duration": 3.458863,
     "end_time": "2023-09-09T08:41:15.720213",
     "exception": false,
     "start_time": "2023-09-09T08:41:12.261350",
     "status": "completed"
    },
    "tags": []
   },
   "outputs": [],
   "source": [
    "!ls ./yolov5/runs/detect/exp/labels/"
   ]
  },
  {
   "cell_type": "code",
   "execution_count": 18,
   "id": "fb3532f8",
   "metadata": {
    "execution": {
     "iopub.execute_input": "2023-09-09T08:41:21.143513Z",
     "iopub.status.busy": "2023-09-09T08:41:21.143147Z",
     "iopub.status.idle": "2023-09-09T08:41:21.149786Z",
     "shell.execute_reply": "2023-09-09T08:41:21.148728Z"
    },
    "papermill": {
     "duration": 2.901126,
     "end_time": "2023-09-09T08:41:21.151607",
     "exception": false,
     "start_time": "2023-09-09T08:41:18.250481",
     "status": "completed"
    },
    "tags": []
   },
   "outputs": [],
   "source": [
    "def convert_yolo_to_coco(s):\n",
    "    x = int(1024 * (s[1] - s[3]/2))\n",
    "    y = int(1024 * (s[2] - s[4]/2))\n",
    "    w = int(1024 * s[3])\n",
    "    h = int(1024 * s[4])\n",
    "    \n",
    "    return(str(s[5]) + ' ' + str(x) + ' ' + str(y) + ' ' + str(w) + ' ' + str(h))"
   ]
  },
  {
   "cell_type": "code",
   "execution_count": 19,
   "id": "a5e331c8",
   "metadata": {
    "execution": {
     "iopub.execute_input": "2023-09-09T08:41:26.175782Z",
     "iopub.status.busy": "2023-09-09T08:41:26.175407Z",
     "iopub.status.idle": "2023-09-09T08:41:26.183237Z",
     "shell.execute_reply": "2023-09-09T08:41:26.182319Z"
    },
    "papermill": {
     "duration": 2.602542,
     "end_time": "2023-09-09T08:41:26.185329",
     "exception": false,
     "start_time": "2023-09-09T08:41:23.582787",
     "status": "completed"
    },
    "tags": []
   },
   "outputs": [],
   "source": [
    "with open('submission.csv', 'w') as myfile:\n",
    "\n",
    "    # prepare submission\n",
    "    wfolder = './yolov5/runs/detect/exp/labels/'\n",
    "    for f in os.listdir(wfolder):\n",
    "        fname = wfolder + f\n",
    "        xdat = pd.read_csv(fname, sep = ' ', header = None)\n",
    "        outline = f[:-4] + ' ' + ' '.join(list(xdat.apply(lambda s: convert_yolo_to_coco(s), axis = 1)))\n",
    "        myfile.write(outline + '\\n')\n",
    "        \n",
    "myfile.close()   "
   ]
  },
  {
   "cell_type": "code",
   "execution_count": 20,
   "id": "22687b51",
   "metadata": {
    "execution": {
     "iopub.execute_input": "2023-09-09T08:41:31.022379Z",
     "iopub.status.busy": "2023-09-09T08:41:31.022014Z",
     "iopub.status.idle": "2023-09-09T08:41:31.972520Z",
     "shell.execute_reply": "2023-09-09T08:41:31.971285Z"
    },
    "papermill": {
     "duration": 3.453204,
     "end_time": "2023-09-09T08:41:31.975247",
     "exception": false,
     "start_time": "2023-09-09T08:41:28.522043",
     "status": "completed"
    },
    "tags": []
   },
   "outputs": [],
   "source": [
    "!cat submission.csv"
   ]
  }
 ],
 "kernelspec": {
  "display_name": "Python 3",
  "language": "python",
  "name": "python3"
 },
 "language_info": {
  "codemirror_mode": {
   "name": "ipython",
   "version": 3
  },
  "file_extension": ".py",
  "mimetype": "text/x-python",
  "name": "python",
  "nbconvert_exporter": "python",
  "pygments_lexer": "ipython3",
  "version": "3.6.4"
 },
 "metadata": {
  "kernelspec": {
   "display_name": "Python 3",
   "language": "python",
   "name": "python3"
  },
  "language_info": {
   "codemirror_mode": {
    "name": "ipython",
    "version": 3
   },
   "file_extension": ".py",
   "mimetype": "text/x-python",
   "name": "python",
   "nbconvert_exporter": "python",
   "pygments_lexer": "ipython3",
   "version": "3.10.12"
  },
  "papermill": {
   "default_parameters": {},
   "duration": 5196.040621,
   "end_time": "2023-09-09T08:41:34.746354",
   "environment_variables": {},
   "exception": null,
   "input_path": "__notebook__.ipynb",
   "output_path": "__notebook__.ipynb",
   "parameters": {},
   "start_time": "2023-09-09T07:14:58.705733",
   "version": "2.4.0"
  }
 },
 "nbformat": 4,
 "nbformat_minor": 5
}
